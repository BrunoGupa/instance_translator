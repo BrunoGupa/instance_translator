{
 "cells": [
  {
   "cell_type": "code",
   "execution_count": 24,
   "outputs": [],
   "source": [
    "import os\n",
    "import pandas as pd\n",
    "import plotly.express as px\n",
    "\n",
    "# Set the directory path\n",
    "directory = \"runs_grid/csv_s\"\n",
    "\n",
    "# Create an empty DataFrame to store the combined data\n",
    "combined_data = pd.DataFrame()\n",
    "\n",
    "# Iterate over the files in the directory\n",
    "for i in range(8):\n",
    "    filename_1 = f\"verify_40_ahuev-{i}.csv\"\n",
    "    filename_2 = f\"verify_40_ahuev-b-{i}.csv\"\n",
    "\n",
    "    file_path_1 = os.path.join(directory, filename_1)\n",
    "    file_path_2 = os.path.join(directory, filename_2)\n",
    "\n",
    "    # Read and process the first set of instances\n",
    "    if os.path.isfile(file_path_1):\n",
    "        init_fire = \"(0, 5)\"\n",
    "        df = pd.read_csv(file_path_1)\n",
    "        df[\"init-fire\"] = init_fire\n",
    "        combined_data = pd.concat([combined_data, df])\n",
    "\n",
    "    # Read and process the second set of instances\n",
    "    if os.path.isfile(file_path_2):\n",
    "        init_fire = \"(4, 5)\"\n",
    "        df = pd.read_csv(file_path_2)\n",
    "        df[\"init-fire\"] = init_fire\n",
    "        combined_data = pd.concat([combined_data, df])\n",
    "\n"
   ],
   "metadata": {
    "collapsed": false
   }
  },
  {
   "cell_type": "code",
   "execution_count": 25,
   "outputs": [],
   "source": [
    "# Create the \"name\" column based on the unique combination of instance and init-fire\n",
    "combined_data['name'] = combined_data.apply(\n",
    "    lambda row: f\"fire-master-{'a' if row['init-fire'] == '(0, 5)' else 'b'}-{row['instance']}\",\n",
    "    axis=1\n",
    ")"
   ],
   "metadata": {
    "collapsed": false
   }
  },
  {
   "cell_type": "code",
   "execution_count": 26,
   "outputs": [],
   "source": [
    "# Calculate the total runtime for each unique combination of instance and init-fire\n",
    "combined_data['total_runtime'] = combined_data.groupby(['instance', 'init-fire'])['runtime'].transform('sum')"
   ],
   "metadata": {
    "collapsed": false
   }
  },
  {
   "cell_type": "code",
   "execution_count": 27,
   "outputs": [
    {
     "data": {
      "text/plain": "   Unnamed: 0  num_nodes burnt_nodes  instance  D  B algorithm  infeasible   \n0           1         40        [21]         0  7  1    moving       False  \\\n0           1         40        [21]         0  7  1    moving       False   \n0           0         40        [21]         1  3  1    moving       False   \n1           1         40        [21]         1  3  2    moving       False   \n0           0         40        [21]         1  3  1    moving       False   \n1           1         40        [21]         1  3  2    moving       False   \n0           0         40        [21]         2  2  1    moving       False   \n1           1         40        [21]         2  2  2    moving       False   \n2           2         40        [21]         2  2  3    moving       False   \n0           0         40        [21]         2  2  1    moving       False   \n1           1         40        [21]         2  2  2    moving       False   \n2           2         40        [21]         2  2  3    moving       False   \n0           0         40        [21]         3  2  1    moving       False   \n1           1         40        [21]         3  2  2    moving       False   \n2           2         40        [21]         3  2  3    moving       False   \n3           3         40        [21]         3  2  4    moving       False   \n4           4         40        [21]         3  2  5    moving       False   \n5           5         40        [21]         3  2  6    moving       False   \n6           6         40        [21]         3  2  7    moving       False   \n7           7         40        [21]         3  2  8    moving       False   \n0           0         40        [21]         3  2  1    moving       False   \n1           1         40        [21]         3  2  2    moving       False   \n2           2         40        [21]         3  2  3    moving       False   \n3           3         40        [21]         3  2  4    moving       False   \n4           4         40        [21]         3  2  5    moving       False   \n5           5         40        [21]         3  2  6    moving       False   \n6           6         40        [21]         3  2  7    moving       False   \n7           7         40        [21]         3  2  8    moving       False   \n0           0         40        [21]         4  4  1    moving       False   \n1           1         40        [21]         4  4  2    moving       False   \n0           0         40        [21]         4  4  1    moving       False   \n1           1         40        [21]         4  4  2    moving       False   \n0           0         40        [21]         5  5  1    moving       False   \n1           1         40        [21]         5  5  2    moving       False   \n2           2         40        [21]         5  5  3    moving       False   \n0           0         40        [21]         5  5  1    moving       False   \n1           1         40        [21]         5  5  2    moving       False   \n2           2         40        [21]         5  5  3    moving       False   \n0           0         40        [21]         6  3  1    moving       False   \n1           1         40        [21]         6  3  2    moving       False   \n2           2         40        [21]         6  3  3    moving       False   \n0           0         40        [21]         6  3  1    moving       False   \n1           1         40        [21]         6  3  2    moving       False   \n2           2         40        [21]         6  3  3    moving       False   \n0           0         40        [21]         7  3  1    moving       False   \n1           1         40        [21]         7  3  2    moving       False   \n2           2         40        [21]         7  3  3    moving       False   \n3           3         40        [21]         7  3  4    moving       False   \n0           0         40        [21]         7  3  1    moving       False   \n1           1         40        [21]         7  3  2    moving       False   \n2           2         40        [21]         7  3  3    moving       False   \n3           3         40        [21]         7  3  4    moving       False   \n\n       runtime  not_interrupted  objective  is_upper_bound D_max   \n0    24.105244             True        1.0            True  [39]  \\\n0    24.614967             True        1.0            True  [39]   \n0     2.632062             True        2.0           False  [39]   \n1    10.029044             True        2.0            True  [39]   \n0     0.956725             True        3.0           False  [39]   \n1    11.218251             True        3.0            True  [39]   \n0     0.005616             True        3.0           False  [39]   \n1     2.461095             True        5.0           False  [39]   \n2    15.382726             True        5.0            True  [39]   \n0     0.005586             True        3.0           False  [39]   \n1     2.452431             True        5.0           False  [39]   \n2    15.461639             True        5.0            True  [39]   \n0     0.002195             True        3.0           False  [39]   \n1     0.017395             True        6.0           False  [39]   \n2     0.148128             True        8.0           False  [39]   \n3     3.991207             True       10.0           False  [39]   \n4    23.197401             True       12.0           False  [39]   \n5    53.073194             True       14.0           False  [39]   \n6   118.092218             True       15.0           False  [39]   \n7   217.310709             True       16.0            True  [39]   \n0     0.002038             True        3.0           False  [39]   \n1     0.017388             True        6.0           False  [39]   \n2     0.149511             True        8.0           False  [39]   \n3     4.042167             True       10.0           False  [39]   \n4    23.416737             True       12.0           False  [39]   \n5    53.312330             True       14.0           False  [39]   \n6   115.634543             True       15.0           False  [39]   \n7   212.945498             True       16.0            True  [39]   \n0     5.480983             True        3.0           False  [39]   \n1    36.352831             True        3.0            True  [39]   \n0     5.450350             True        3.0           False  [39]   \n1    35.135014             True        3.0            True  [39]   \n0     4.034575             True        3.0           False  [39]   \n1   256.834659             True        4.0           False  [39]   \n2  1280.615963             True        4.0            True  [39]   \n0     3.856705             True        3.0           False  [39]   \n1   258.307330             True        4.0           False  [39]   \n2  1285.918009             True        4.0            True  [39]   \n0     0.029327             True        3.0           False  [39]   \n1     2.133433             True        6.0           False  [39]   \n2    42.876661             True        6.0            True  [39]   \n0     0.025946             True        3.0           False  [39]   \n1     2.147001             True        6.0           False  [39]   \n2    42.624413             True        6.0            True  [39]   \n0     0.025667             True        3.0           False  [39]   \n1     0.980786             True        6.0           False  [39]   \n2    33.973599             True        7.0           False  [39]   \n3    88.145857             True        7.0            True  [39]   \n0     0.025818             True        3.0           False  [39]   \n1     0.987089             True        6.0           False  [39]   \n2    34.201156             True        7.0           False  [39]   \n3    88.821901             True        7.0            True  [39]   \n\n                                        defended_seq   \n0  [[39, 0, 0], [39, 1, 0], [39, 1, 1], [39, 1, 2...  \\\n0  [[39, 0, 0], [39, 1, 0], [39, 1, 1], [39, 1, 2...   \n0   [[39, 0, 0], [28, 1, 0], [28, 1, 1], [28, 1, 2]]   \n1  [[39, 0, 0], [28, 1, 0], [28, 1, 1], [28, 1, 2...   \n0   [[39, 0, 0], [39, 1, 0], [31, 1, 1], [26, 1, 2]]   \n1  [[39, 0, 0], [23, 1, 0], [23, 1, 1], [23, 1, 2...   \n0               [[39, 0, 0], [31, 1, 0], [31, 1, 1]]   \n1  [[39, 0, 0], [39, 1, 0], [39, 1, 1], [23, 2, 0...   \n2  [[39, 0, 0], [39, 1, 0], [39, 1, 1], [39, 2, 0...   \n0               [[39, 0, 0], [31, 1, 0], [31, 1, 1]]   \n1  [[39, 0, 0], [39, 1, 0], [39, 1, 1], [23, 2, 0...   \n2  [[39, 0, 0], [39, 1, 0], [39, 1, 1], [39, 2, 0...   \n0               [[39, 0, 0], [39, 1, 0], [39, 1, 1]]   \n1  [[39, 0, 0], [39, 1, 0], [39, 1, 1], [39, 2, 0...   \n2  [[39, 0, 0], [39, 1, 0], [39, 1, 1], [39, 2, 0...   \n3  [[39, 0, 0], [39, 1, 0], [39, 1, 1], [39, 2, 0...   \n4  [[39, 0, 0], [39, 1, 0], [39, 1, 1], [39, 2, 0...   \n5  [[39, 0, 0], [39, 1, 0], [39, 1, 1], [39, 2, 0...   \n6  [[39, 0, 0], [39, 1, 0], [39, 1, 1], [39, 2, 0...   \n7  [[39, 0, 0], [39, 1, 0], [39, 1, 1], [39, 2, 0...   \n0               [[39, 0, 0], [39, 1, 0], [39, 1, 1]]   \n1  [[39, 0, 0], [39, 1, 0], [39, 1, 1], [39, 2, 0...   \n2  [[39, 0, 0], [39, 1, 0], [39, 1, 1], [39, 2, 0...   \n3  [[39, 0, 0], [39, 1, 0], [39, 1, 1], [39, 2, 0...   \n4  [[39, 0, 0], [39, 1, 0], [39, 1, 1], [39, 2, 0...   \n5  [[39, 0, 0], [39, 1, 0], [39, 1, 1], [39, 2, 0...   \n6  [[39, 0, 0], [39, 1, 0], [39, 1, 1], [39, 2, 0...   \n7  [[39, 0, 0], [39, 1, 0], [39, 1, 1], [39, 2, 0...   \n0  [[39, 0, 0], [39, 1, 0], [27, 1, 1], [20, 1, 2...   \n1  [[39, 0, 0], [39, 1, 0], [39, 1, 1], [16, 1, 2...   \n0  [[39, 0, 0], [39, 1, 0], [27, 1, 1], [20, 1, 2...   \n1  [[39, 0, 0], [39, 1, 0], [39, 1, 1], [16, 1, 2...   \n0  [[39, 0, 0], [39, 1, 0], [39, 1, 1], [39, 1, 2...   \n1  [[39, 0, 0], [39, 1, 0], [39, 1, 1], [39, 1, 2...   \n2  [[39, 0, 0], [39, 1, 0], [39, 1, 1], [39, 1, 2...   \n0  [[39, 0, 0], [39, 1, 0], [39, 1, 1], [39, 1, 2...   \n1  [[39, 0, 0], [39, 1, 0], [39, 1, 1], [39, 1, 2...   \n2  [[39, 0, 0], [39, 1, 0], [39, 1, 1], [39, 1, 2...   \n0   [[39, 0, 0], [38, 1, 0], [38, 1, 1], [38, 1, 2]]   \n1  [[39, 0, 0], [39, 1, 0], [39, 1, 1], [39, 1, 2...   \n2  [[39, 0, 0], [38, 1, 0], [38, 1, 1], [38, 1, 2...   \n0   [[39, 0, 0], [38, 1, 0], [38, 1, 1], [38, 1, 2]]   \n1  [[39, 0, 0], [39, 1, 0], [39, 1, 1], [39, 1, 2...   \n2  [[39, 0, 0], [38, 1, 0], [38, 1, 1], [38, 1, 2...   \n0   [[39, 0, 0], [38, 1, 0], [38, 1, 1], [38, 1, 2]]   \n1  [[39, 0, 0], [38, 1, 0], [38, 1, 1], [38, 1, 2...   \n2  [[39, 0, 0], [39, 1, 0], [39, 1, 1], [39, 1, 2...   \n3  [[39, 0, 0], [39, 1, 0], [39, 1, 1], [39, 1, 2...   \n0   [[39, 0, 0], [38, 1, 0], [38, 1, 1], [38, 1, 2]]   \n1  [[39, 0, 0], [38, 1, 0], [38, 1, 1], [38, 1, 2...   \n2  [[39, 0, 0], [39, 1, 0], [39, 1, 1], [39, 1, 2...   \n3  [[39, 0, 0], [39, 1, 0], [39, 1, 1], [39, 1, 2...   \n\n                                           distances init-fire   \n0                                             [0.65]    (0, 5)  \\\n0                                             [0.65]    (4, 5)   \n0                                             [0.94]    (0, 5)   \n1           [0.9400000000000001, 1.7000000000000002]    (0, 5)   \n0                                              [1.0]    (4, 5)   \n1                          [1.0, 1.7999999999999998]    (4, 5)   \n0                                             [0.95]    (0, 5)   \n1                                        [0.0, 1.55]    (0, 5)   \n2                                   [0.0, 1.55, 3.0]    (0, 5)   \n0                                             [0.95]    (4, 5)   \n1                                        [0.0, 1.55]    (4, 5)   \n2                                   [0.0, 1.55, 3.0]    (4, 5)   \n0                                              [0.0]    (0, 5)   \n1                          [0.0, 1.0500000000000158]    (0, 5)   \n2                                    [0.0, 0.0, 1.6]    (0, 5)   \n3                              [0.0, 0.0, 0.0, 3.25]    (0, 5)   \n4                         [0.0, 0.0, 2.7, 3.75, 4.8]    (0, 5)   \n5  [0.0, 0.0, 2.7, 3.75, 4.800000000000001, 5.850...    (0, 5)   \n6  [0.0, 0.0, 2.7, 3.75, 4.800000000000001, 5.850...    (0, 5)   \n7  [0.0, 0.0, 2.15, 3.75, 4.800000000000001, 5.85...    (0, 5)   \n0                                              [0.0]    (4, 5)   \n1                          [0.0, 1.0500000000000158]    (4, 5)   \n2                                    [0.0, 0.0, 1.6]    (4, 5)   \n3                              [0.0, 0.0, 0.0, 3.25]    (4, 5)   \n4                         [0.0, 0.0, 2.7, 3.75, 4.8]    (4, 5)   \n5  [0.0, 0.0, 2.7, 3.75, 4.800000000000001, 5.850...    (4, 5)   \n6  [0.0, 0.0, 2.7, 3.75, 4.800000000000001, 5.850...    (4, 5)   \n7  [0.0, 0.0, 2.15, 3.75, 4.800000000000001, 5.85...    (4, 5)   \n0                               [0.9500000000000001]    (0, 5)   \n1                                         [0.8, 1.9]    (0, 5)   \n0                               [0.9500000000000001]    (4, 5)   \n1                                         [0.8, 1.9]    (4, 5)   \n0                                              [0.7]    (0, 5)   \n1                                       [0.0, 1.875]    (0, 5)   \n2                              [0.925, 1.875, 2.125]    (0, 5)   \n0                                              [0.7]    (4, 5)   \n1                                       [0.0, 1.875]    (4, 5)   \n2                              [0.925, 1.875, 2.125]    (4, 5)   \n0                                            [0.425]    (0, 5)   \n1                                       [0.0, 1.725]    (0, 5)   \n2     [0.42500000000000004, 1.8250000000000002, 3.0]    (0, 5)   \n0                                            [0.425]    (4, 5)   \n1                                       [0.0, 1.725]    (4, 5)   \n2     [0.42500000000000004, 1.8250000000000002, 3.0]    (4, 5)   \n0                                              [0.5]    (0, 5)   \n1                                         [0.5, 2.0]    (0, 5)   \n2                     [0.0, 1.4000000000000001, 2.8]    (0, 5)   \n3  [0.0, 1.9000000000000001, 2.8500000000000005, ...    (0, 5)   \n0                                              [0.5]    (4, 5)   \n1                                         [0.5, 2.0]    (4, 5)   \n2                     [0.0, 1.4000000000000001, 2.8]    (4, 5)   \n3  [0.0, 1.9000000000000001, 2.8500000000000005, ...    (4, 5)   \n\n              name  total_runtime  \n0  fire-master-a-0      24.105244  \n0  fire-master-b-0      24.614967  \n0  fire-master-a-1      12.661106  \n1  fire-master-a-1      12.661106  \n0  fire-master-b-1      12.174976  \n1  fire-master-b-1      12.174976  \n0  fire-master-a-2      17.849437  \n1  fire-master-a-2      17.849437  \n2  fire-master-a-2      17.849437  \n0  fire-master-b-2      17.919656  \n1  fire-master-b-2      17.919656  \n2  fire-master-b-2      17.919656  \n0  fire-master-a-3     415.832447  \n1  fire-master-a-3     415.832447  \n2  fire-master-a-3     415.832447  \n3  fire-master-a-3     415.832447  \n4  fire-master-a-3     415.832447  \n5  fire-master-a-3     415.832447  \n6  fire-master-a-3     415.832447  \n7  fire-master-a-3     415.832447  \n0  fire-master-b-3     409.520212  \n1  fire-master-b-3     409.520212  \n2  fire-master-b-3     409.520212  \n3  fire-master-b-3     409.520212  \n4  fire-master-b-3     409.520212  \n5  fire-master-b-3     409.520212  \n6  fire-master-b-3     409.520212  \n7  fire-master-b-3     409.520212  \n0  fire-master-a-4      41.833814  \n1  fire-master-a-4      41.833814  \n0  fire-master-b-4      40.585364  \n1  fire-master-b-4      40.585364  \n0  fire-master-a-5    1541.485197  \n1  fire-master-a-5    1541.485197  \n2  fire-master-a-5    1541.485197  \n0  fire-master-b-5    1548.082044  \n1  fire-master-b-5    1548.082044  \n2  fire-master-b-5    1548.082044  \n0  fire-master-a-6      45.039421  \n1  fire-master-a-6      45.039421  \n2  fire-master-a-6      45.039421  \n0  fire-master-b-6      44.797360  \n1  fire-master-b-6      44.797360  \n2  fire-master-b-6      44.797360  \n0  fire-master-a-7     123.125909  \n1  fire-master-a-7     123.125909  \n2  fire-master-a-7     123.125909  \n3  fire-master-a-7     123.125909  \n0  fire-master-b-7     124.035964  \n1  fire-master-b-7     124.035964  \n2  fire-master-b-7     124.035964  \n3  fire-master-b-7     124.035964  ",
      "text/html": "<div>\n<style scoped>\n    .dataframe tbody tr th:only-of-type {\n        vertical-align: middle;\n    }\n\n    .dataframe tbody tr th {\n        vertical-align: top;\n    }\n\n    .dataframe thead th {\n        text-align: right;\n    }\n</style>\n<table border=\"1\" class=\"dataframe\">\n  <thead>\n    <tr style=\"text-align: right;\">\n      <th></th>\n      <th>Unnamed: 0</th>\n      <th>num_nodes</th>\n      <th>burnt_nodes</th>\n      <th>instance</th>\n      <th>D</th>\n      <th>B</th>\n      <th>algorithm</th>\n      <th>infeasible</th>\n      <th>runtime</th>\n      <th>not_interrupted</th>\n      <th>objective</th>\n      <th>is_upper_bound</th>\n      <th>D_max</th>\n      <th>defended_seq</th>\n      <th>distances</th>\n      <th>init-fire</th>\n      <th>name</th>\n      <th>total_runtime</th>\n    </tr>\n  </thead>\n  <tbody>\n    <tr>\n      <th>0</th>\n      <td>1</td>\n      <td>40</td>\n      <td>[21]</td>\n      <td>0</td>\n      <td>7</td>\n      <td>1</td>\n      <td>moving</td>\n      <td>False</td>\n      <td>24.105244</td>\n      <td>True</td>\n      <td>1.0</td>\n      <td>True</td>\n      <td>[39]</td>\n      <td>[[39, 0, 0], [39, 1, 0], [39, 1, 1], [39, 1, 2...</td>\n      <td>[0.65]</td>\n      <td>(0, 5)</td>\n      <td>fire-master-a-0</td>\n      <td>24.105244</td>\n    </tr>\n    <tr>\n      <th>0</th>\n      <td>1</td>\n      <td>40</td>\n      <td>[21]</td>\n      <td>0</td>\n      <td>7</td>\n      <td>1</td>\n      <td>moving</td>\n      <td>False</td>\n      <td>24.614967</td>\n      <td>True</td>\n      <td>1.0</td>\n      <td>True</td>\n      <td>[39]</td>\n      <td>[[39, 0, 0], [39, 1, 0], [39, 1, 1], [39, 1, 2...</td>\n      <td>[0.65]</td>\n      <td>(4, 5)</td>\n      <td>fire-master-b-0</td>\n      <td>24.614967</td>\n    </tr>\n    <tr>\n      <th>0</th>\n      <td>0</td>\n      <td>40</td>\n      <td>[21]</td>\n      <td>1</td>\n      <td>3</td>\n      <td>1</td>\n      <td>moving</td>\n      <td>False</td>\n      <td>2.632062</td>\n      <td>True</td>\n      <td>2.0</td>\n      <td>False</td>\n      <td>[39]</td>\n      <td>[[39, 0, 0], [28, 1, 0], [28, 1, 1], [28, 1, 2]]</td>\n      <td>[0.94]</td>\n      <td>(0, 5)</td>\n      <td>fire-master-a-1</td>\n      <td>12.661106</td>\n    </tr>\n    <tr>\n      <th>1</th>\n      <td>1</td>\n      <td>40</td>\n      <td>[21]</td>\n      <td>1</td>\n      <td>3</td>\n      <td>2</td>\n      <td>moving</td>\n      <td>False</td>\n      <td>10.029044</td>\n      <td>True</td>\n      <td>2.0</td>\n      <td>True</td>\n      <td>[39]</td>\n      <td>[[39, 0, 0], [28, 1, 0], [28, 1, 1], [28, 1, 2...</td>\n      <td>[0.9400000000000001, 1.7000000000000002]</td>\n      <td>(0, 5)</td>\n      <td>fire-master-a-1</td>\n      <td>12.661106</td>\n    </tr>\n    <tr>\n      <th>0</th>\n      <td>0</td>\n      <td>40</td>\n      <td>[21]</td>\n      <td>1</td>\n      <td>3</td>\n      <td>1</td>\n      <td>moving</td>\n      <td>False</td>\n      <td>0.956725</td>\n      <td>True</td>\n      <td>3.0</td>\n      <td>False</td>\n      <td>[39]</td>\n      <td>[[39, 0, 0], [39, 1, 0], [31, 1, 1], [26, 1, 2]]</td>\n      <td>[1.0]</td>\n      <td>(4, 5)</td>\n      <td>fire-master-b-1</td>\n      <td>12.174976</td>\n    </tr>\n    <tr>\n      <th>1</th>\n      <td>1</td>\n      <td>40</td>\n      <td>[21]</td>\n      <td>1</td>\n      <td>3</td>\n      <td>2</td>\n      <td>moving</td>\n      <td>False</td>\n      <td>11.218251</td>\n      <td>True</td>\n      <td>3.0</td>\n      <td>True</td>\n      <td>[39]</td>\n      <td>[[39, 0, 0], [23, 1, 0], [23, 1, 1], [23, 1, 2...</td>\n      <td>[1.0, 1.7999999999999998]</td>\n      <td>(4, 5)</td>\n      <td>fire-master-b-1</td>\n      <td>12.174976</td>\n    </tr>\n    <tr>\n      <th>0</th>\n      <td>0</td>\n      <td>40</td>\n      <td>[21]</td>\n      <td>2</td>\n      <td>2</td>\n      <td>1</td>\n      <td>moving</td>\n      <td>False</td>\n      <td>0.005616</td>\n      <td>True</td>\n      <td>3.0</td>\n      <td>False</td>\n      <td>[39]</td>\n      <td>[[39, 0, 0], [31, 1, 0], [31, 1, 1]]</td>\n      <td>[0.95]</td>\n      <td>(0, 5)</td>\n      <td>fire-master-a-2</td>\n      <td>17.849437</td>\n    </tr>\n    <tr>\n      <th>1</th>\n      <td>1</td>\n      <td>40</td>\n      <td>[21]</td>\n      <td>2</td>\n      <td>2</td>\n      <td>2</td>\n      <td>moving</td>\n      <td>False</td>\n      <td>2.461095</td>\n      <td>True</td>\n      <td>5.0</td>\n      <td>False</td>\n      <td>[39]</td>\n      <td>[[39, 0, 0], [39, 1, 0], [39, 1, 1], [23, 2, 0...</td>\n      <td>[0.0, 1.55]</td>\n      <td>(0, 5)</td>\n      <td>fire-master-a-2</td>\n      <td>17.849437</td>\n    </tr>\n    <tr>\n      <th>2</th>\n      <td>2</td>\n      <td>40</td>\n      <td>[21]</td>\n      <td>2</td>\n      <td>2</td>\n      <td>3</td>\n      <td>moving</td>\n      <td>False</td>\n      <td>15.382726</td>\n      <td>True</td>\n      <td>5.0</td>\n      <td>True</td>\n      <td>[39]</td>\n      <td>[[39, 0, 0], [39, 1, 0], [39, 1, 1], [39, 2, 0...</td>\n      <td>[0.0, 1.55, 3.0]</td>\n      <td>(0, 5)</td>\n      <td>fire-master-a-2</td>\n      <td>17.849437</td>\n    </tr>\n    <tr>\n      <th>0</th>\n      <td>0</td>\n      <td>40</td>\n      <td>[21]</td>\n      <td>2</td>\n      <td>2</td>\n      <td>1</td>\n      <td>moving</td>\n      <td>False</td>\n      <td>0.005586</td>\n      <td>True</td>\n      <td>3.0</td>\n      <td>False</td>\n      <td>[39]</td>\n      <td>[[39, 0, 0], [31, 1, 0], [31, 1, 1]]</td>\n      <td>[0.95]</td>\n      <td>(4, 5)</td>\n      <td>fire-master-b-2</td>\n      <td>17.919656</td>\n    </tr>\n    <tr>\n      <th>1</th>\n      <td>1</td>\n      <td>40</td>\n      <td>[21]</td>\n      <td>2</td>\n      <td>2</td>\n      <td>2</td>\n      <td>moving</td>\n      <td>False</td>\n      <td>2.452431</td>\n      <td>True</td>\n      <td>5.0</td>\n      <td>False</td>\n      <td>[39]</td>\n      <td>[[39, 0, 0], [39, 1, 0], [39, 1, 1], [23, 2, 0...</td>\n      <td>[0.0, 1.55]</td>\n      <td>(4, 5)</td>\n      <td>fire-master-b-2</td>\n      <td>17.919656</td>\n    </tr>\n    <tr>\n      <th>2</th>\n      <td>2</td>\n      <td>40</td>\n      <td>[21]</td>\n      <td>2</td>\n      <td>2</td>\n      <td>3</td>\n      <td>moving</td>\n      <td>False</td>\n      <td>15.461639</td>\n      <td>True</td>\n      <td>5.0</td>\n      <td>True</td>\n      <td>[39]</td>\n      <td>[[39, 0, 0], [39, 1, 0], [39, 1, 1], [39, 2, 0...</td>\n      <td>[0.0, 1.55, 3.0]</td>\n      <td>(4, 5)</td>\n      <td>fire-master-b-2</td>\n      <td>17.919656</td>\n    </tr>\n    <tr>\n      <th>0</th>\n      <td>0</td>\n      <td>40</td>\n      <td>[21]</td>\n      <td>3</td>\n      <td>2</td>\n      <td>1</td>\n      <td>moving</td>\n      <td>False</td>\n      <td>0.002195</td>\n      <td>True</td>\n      <td>3.0</td>\n      <td>False</td>\n      <td>[39]</td>\n      <td>[[39, 0, 0], [39, 1, 0], [39, 1, 1]]</td>\n      <td>[0.0]</td>\n      <td>(0, 5)</td>\n      <td>fire-master-a-3</td>\n      <td>415.832447</td>\n    </tr>\n    <tr>\n      <th>1</th>\n      <td>1</td>\n      <td>40</td>\n      <td>[21]</td>\n      <td>3</td>\n      <td>2</td>\n      <td>2</td>\n      <td>moving</td>\n      <td>False</td>\n      <td>0.017395</td>\n      <td>True</td>\n      <td>6.0</td>\n      <td>False</td>\n      <td>[39]</td>\n      <td>[[39, 0, 0], [39, 1, 0], [39, 1, 1], [39, 2, 0...</td>\n      <td>[0.0, 1.0500000000000158]</td>\n      <td>(0, 5)</td>\n      <td>fire-master-a-3</td>\n      <td>415.832447</td>\n    </tr>\n    <tr>\n      <th>2</th>\n      <td>2</td>\n      <td>40</td>\n      <td>[21]</td>\n      <td>3</td>\n      <td>2</td>\n      <td>3</td>\n      <td>moving</td>\n      <td>False</td>\n      <td>0.148128</td>\n      <td>True</td>\n      <td>8.0</td>\n      <td>False</td>\n      <td>[39]</td>\n      <td>[[39, 0, 0], [39, 1, 0], [39, 1, 1], [39, 2, 0...</td>\n      <td>[0.0, 0.0, 1.6]</td>\n      <td>(0, 5)</td>\n      <td>fire-master-a-3</td>\n      <td>415.832447</td>\n    </tr>\n    <tr>\n      <th>3</th>\n      <td>3</td>\n      <td>40</td>\n      <td>[21]</td>\n      <td>3</td>\n      <td>2</td>\n      <td>4</td>\n      <td>moving</td>\n      <td>False</td>\n      <td>3.991207</td>\n      <td>True</td>\n      <td>10.0</td>\n      <td>False</td>\n      <td>[39]</td>\n      <td>[[39, 0, 0], [39, 1, 0], [39, 1, 1], [39, 2, 0...</td>\n      <td>[0.0, 0.0, 0.0, 3.25]</td>\n      <td>(0, 5)</td>\n      <td>fire-master-a-3</td>\n      <td>415.832447</td>\n    </tr>\n    <tr>\n      <th>4</th>\n      <td>4</td>\n      <td>40</td>\n      <td>[21]</td>\n      <td>3</td>\n      <td>2</td>\n      <td>5</td>\n      <td>moving</td>\n      <td>False</td>\n      <td>23.197401</td>\n      <td>True</td>\n      <td>12.0</td>\n      <td>False</td>\n      <td>[39]</td>\n      <td>[[39, 0, 0], [39, 1, 0], [39, 1, 1], [39, 2, 0...</td>\n      <td>[0.0, 0.0, 2.7, 3.75, 4.8]</td>\n      <td>(0, 5)</td>\n      <td>fire-master-a-3</td>\n      <td>415.832447</td>\n    </tr>\n    <tr>\n      <th>5</th>\n      <td>5</td>\n      <td>40</td>\n      <td>[21]</td>\n      <td>3</td>\n      <td>2</td>\n      <td>6</td>\n      <td>moving</td>\n      <td>False</td>\n      <td>53.073194</td>\n      <td>True</td>\n      <td>14.0</td>\n      <td>False</td>\n      <td>[39]</td>\n      <td>[[39, 0, 0], [39, 1, 0], [39, 1, 1], [39, 2, 0...</td>\n      <td>[0.0, 0.0, 2.7, 3.75, 4.800000000000001, 5.850...</td>\n      <td>(0, 5)</td>\n      <td>fire-master-a-3</td>\n      <td>415.832447</td>\n    </tr>\n    <tr>\n      <th>6</th>\n      <td>6</td>\n      <td>40</td>\n      <td>[21]</td>\n      <td>3</td>\n      <td>2</td>\n      <td>7</td>\n      <td>moving</td>\n      <td>False</td>\n      <td>118.092218</td>\n      <td>True</td>\n      <td>15.0</td>\n      <td>False</td>\n      <td>[39]</td>\n      <td>[[39, 0, 0], [39, 1, 0], [39, 1, 1], [39, 2, 0...</td>\n      <td>[0.0, 0.0, 2.7, 3.75, 4.800000000000001, 5.850...</td>\n      <td>(0, 5)</td>\n      <td>fire-master-a-3</td>\n      <td>415.832447</td>\n    </tr>\n    <tr>\n      <th>7</th>\n      <td>7</td>\n      <td>40</td>\n      <td>[21]</td>\n      <td>3</td>\n      <td>2</td>\n      <td>8</td>\n      <td>moving</td>\n      <td>False</td>\n      <td>217.310709</td>\n      <td>True</td>\n      <td>16.0</td>\n      <td>True</td>\n      <td>[39]</td>\n      <td>[[39, 0, 0], [39, 1, 0], [39, 1, 1], [39, 2, 0...</td>\n      <td>[0.0, 0.0, 2.15, 3.75, 4.800000000000001, 5.85...</td>\n      <td>(0, 5)</td>\n      <td>fire-master-a-3</td>\n      <td>415.832447</td>\n    </tr>\n    <tr>\n      <th>0</th>\n      <td>0</td>\n      <td>40</td>\n      <td>[21]</td>\n      <td>3</td>\n      <td>2</td>\n      <td>1</td>\n      <td>moving</td>\n      <td>False</td>\n      <td>0.002038</td>\n      <td>True</td>\n      <td>3.0</td>\n      <td>False</td>\n      <td>[39]</td>\n      <td>[[39, 0, 0], [39, 1, 0], [39, 1, 1]]</td>\n      <td>[0.0]</td>\n      <td>(4, 5)</td>\n      <td>fire-master-b-3</td>\n      <td>409.520212</td>\n    </tr>\n    <tr>\n      <th>1</th>\n      <td>1</td>\n      <td>40</td>\n      <td>[21]</td>\n      <td>3</td>\n      <td>2</td>\n      <td>2</td>\n      <td>moving</td>\n      <td>False</td>\n      <td>0.017388</td>\n      <td>True</td>\n      <td>6.0</td>\n      <td>False</td>\n      <td>[39]</td>\n      <td>[[39, 0, 0], [39, 1, 0], [39, 1, 1], [39, 2, 0...</td>\n      <td>[0.0, 1.0500000000000158]</td>\n      <td>(4, 5)</td>\n      <td>fire-master-b-3</td>\n      <td>409.520212</td>\n    </tr>\n    <tr>\n      <th>2</th>\n      <td>2</td>\n      <td>40</td>\n      <td>[21]</td>\n      <td>3</td>\n      <td>2</td>\n      <td>3</td>\n      <td>moving</td>\n      <td>False</td>\n      <td>0.149511</td>\n      <td>True</td>\n      <td>8.0</td>\n      <td>False</td>\n      <td>[39]</td>\n      <td>[[39, 0, 0], [39, 1, 0], [39, 1, 1], [39, 2, 0...</td>\n      <td>[0.0, 0.0, 1.6]</td>\n      <td>(4, 5)</td>\n      <td>fire-master-b-3</td>\n      <td>409.520212</td>\n    </tr>\n    <tr>\n      <th>3</th>\n      <td>3</td>\n      <td>40</td>\n      <td>[21]</td>\n      <td>3</td>\n      <td>2</td>\n      <td>4</td>\n      <td>moving</td>\n      <td>False</td>\n      <td>4.042167</td>\n      <td>True</td>\n      <td>10.0</td>\n      <td>False</td>\n      <td>[39]</td>\n      <td>[[39, 0, 0], [39, 1, 0], [39, 1, 1], [39, 2, 0...</td>\n      <td>[0.0, 0.0, 0.0, 3.25]</td>\n      <td>(4, 5)</td>\n      <td>fire-master-b-3</td>\n      <td>409.520212</td>\n    </tr>\n    <tr>\n      <th>4</th>\n      <td>4</td>\n      <td>40</td>\n      <td>[21]</td>\n      <td>3</td>\n      <td>2</td>\n      <td>5</td>\n      <td>moving</td>\n      <td>False</td>\n      <td>23.416737</td>\n      <td>True</td>\n      <td>12.0</td>\n      <td>False</td>\n      <td>[39]</td>\n      <td>[[39, 0, 0], [39, 1, 0], [39, 1, 1], [39, 2, 0...</td>\n      <td>[0.0, 0.0, 2.7, 3.75, 4.8]</td>\n      <td>(4, 5)</td>\n      <td>fire-master-b-3</td>\n      <td>409.520212</td>\n    </tr>\n    <tr>\n      <th>5</th>\n      <td>5</td>\n      <td>40</td>\n      <td>[21]</td>\n      <td>3</td>\n      <td>2</td>\n      <td>6</td>\n      <td>moving</td>\n      <td>False</td>\n      <td>53.312330</td>\n      <td>True</td>\n      <td>14.0</td>\n      <td>False</td>\n      <td>[39]</td>\n      <td>[[39, 0, 0], [39, 1, 0], [39, 1, 1], [39, 2, 0...</td>\n      <td>[0.0, 0.0, 2.7, 3.75, 4.800000000000001, 5.850...</td>\n      <td>(4, 5)</td>\n      <td>fire-master-b-3</td>\n      <td>409.520212</td>\n    </tr>\n    <tr>\n      <th>6</th>\n      <td>6</td>\n      <td>40</td>\n      <td>[21]</td>\n      <td>3</td>\n      <td>2</td>\n      <td>7</td>\n      <td>moving</td>\n      <td>False</td>\n      <td>115.634543</td>\n      <td>True</td>\n      <td>15.0</td>\n      <td>False</td>\n      <td>[39]</td>\n      <td>[[39, 0, 0], [39, 1, 0], [39, 1, 1], [39, 2, 0...</td>\n      <td>[0.0, 0.0, 2.7, 3.75, 4.800000000000001, 5.850...</td>\n      <td>(4, 5)</td>\n      <td>fire-master-b-3</td>\n      <td>409.520212</td>\n    </tr>\n    <tr>\n      <th>7</th>\n      <td>7</td>\n      <td>40</td>\n      <td>[21]</td>\n      <td>3</td>\n      <td>2</td>\n      <td>8</td>\n      <td>moving</td>\n      <td>False</td>\n      <td>212.945498</td>\n      <td>True</td>\n      <td>16.0</td>\n      <td>True</td>\n      <td>[39]</td>\n      <td>[[39, 0, 0], [39, 1, 0], [39, 1, 1], [39, 2, 0...</td>\n      <td>[0.0, 0.0, 2.15, 3.75, 4.800000000000001, 5.85...</td>\n      <td>(4, 5)</td>\n      <td>fire-master-b-3</td>\n      <td>409.520212</td>\n    </tr>\n    <tr>\n      <th>0</th>\n      <td>0</td>\n      <td>40</td>\n      <td>[21]</td>\n      <td>4</td>\n      <td>4</td>\n      <td>1</td>\n      <td>moving</td>\n      <td>False</td>\n      <td>5.480983</td>\n      <td>True</td>\n      <td>3.0</td>\n      <td>False</td>\n      <td>[39]</td>\n      <td>[[39, 0, 0], [39, 1, 0], [27, 1, 1], [20, 1, 2...</td>\n      <td>[0.9500000000000001]</td>\n      <td>(0, 5)</td>\n      <td>fire-master-a-4</td>\n      <td>41.833814</td>\n    </tr>\n    <tr>\n      <th>1</th>\n      <td>1</td>\n      <td>40</td>\n      <td>[21]</td>\n      <td>4</td>\n      <td>4</td>\n      <td>2</td>\n      <td>moving</td>\n      <td>False</td>\n      <td>36.352831</td>\n      <td>True</td>\n      <td>3.0</td>\n      <td>True</td>\n      <td>[39]</td>\n      <td>[[39, 0, 0], [39, 1, 0], [39, 1, 1], [16, 1, 2...</td>\n      <td>[0.8, 1.9]</td>\n      <td>(0, 5)</td>\n      <td>fire-master-a-4</td>\n      <td>41.833814</td>\n    </tr>\n    <tr>\n      <th>0</th>\n      <td>0</td>\n      <td>40</td>\n      <td>[21]</td>\n      <td>4</td>\n      <td>4</td>\n      <td>1</td>\n      <td>moving</td>\n      <td>False</td>\n      <td>5.450350</td>\n      <td>True</td>\n      <td>3.0</td>\n      <td>False</td>\n      <td>[39]</td>\n      <td>[[39, 0, 0], [39, 1, 0], [27, 1, 1], [20, 1, 2...</td>\n      <td>[0.9500000000000001]</td>\n      <td>(4, 5)</td>\n      <td>fire-master-b-4</td>\n      <td>40.585364</td>\n    </tr>\n    <tr>\n      <th>1</th>\n      <td>1</td>\n      <td>40</td>\n      <td>[21]</td>\n      <td>4</td>\n      <td>4</td>\n      <td>2</td>\n      <td>moving</td>\n      <td>False</td>\n      <td>35.135014</td>\n      <td>True</td>\n      <td>3.0</td>\n      <td>True</td>\n      <td>[39]</td>\n      <td>[[39, 0, 0], [39, 1, 0], [39, 1, 1], [16, 1, 2...</td>\n      <td>[0.8, 1.9]</td>\n      <td>(4, 5)</td>\n      <td>fire-master-b-4</td>\n      <td>40.585364</td>\n    </tr>\n    <tr>\n      <th>0</th>\n      <td>0</td>\n      <td>40</td>\n      <td>[21]</td>\n      <td>5</td>\n      <td>5</td>\n      <td>1</td>\n      <td>moving</td>\n      <td>False</td>\n      <td>4.034575</td>\n      <td>True</td>\n      <td>3.0</td>\n      <td>False</td>\n      <td>[39]</td>\n      <td>[[39, 0, 0], [39, 1, 0], [39, 1, 1], [39, 1, 2...</td>\n      <td>[0.7]</td>\n      <td>(0, 5)</td>\n      <td>fire-master-a-5</td>\n      <td>1541.485197</td>\n    </tr>\n    <tr>\n      <th>1</th>\n      <td>1</td>\n      <td>40</td>\n      <td>[21]</td>\n      <td>5</td>\n      <td>5</td>\n      <td>2</td>\n      <td>moving</td>\n      <td>False</td>\n      <td>256.834659</td>\n      <td>True</td>\n      <td>4.0</td>\n      <td>False</td>\n      <td>[39]</td>\n      <td>[[39, 0, 0], [39, 1, 0], [39, 1, 1], [39, 1, 2...</td>\n      <td>[0.0, 1.875]</td>\n      <td>(0, 5)</td>\n      <td>fire-master-a-5</td>\n      <td>1541.485197</td>\n    </tr>\n    <tr>\n      <th>2</th>\n      <td>2</td>\n      <td>40</td>\n      <td>[21]</td>\n      <td>5</td>\n      <td>5</td>\n      <td>3</td>\n      <td>moving</td>\n      <td>False</td>\n      <td>1280.615963</td>\n      <td>True</td>\n      <td>4.0</td>\n      <td>True</td>\n      <td>[39]</td>\n      <td>[[39, 0, 0], [39, 1, 0], [39, 1, 1], [39, 1, 2...</td>\n      <td>[0.925, 1.875, 2.125]</td>\n      <td>(0, 5)</td>\n      <td>fire-master-a-5</td>\n      <td>1541.485197</td>\n    </tr>\n    <tr>\n      <th>0</th>\n      <td>0</td>\n      <td>40</td>\n      <td>[21]</td>\n      <td>5</td>\n      <td>5</td>\n      <td>1</td>\n      <td>moving</td>\n      <td>False</td>\n      <td>3.856705</td>\n      <td>True</td>\n      <td>3.0</td>\n      <td>False</td>\n      <td>[39]</td>\n      <td>[[39, 0, 0], [39, 1, 0], [39, 1, 1], [39, 1, 2...</td>\n      <td>[0.7]</td>\n      <td>(4, 5)</td>\n      <td>fire-master-b-5</td>\n      <td>1548.082044</td>\n    </tr>\n    <tr>\n      <th>1</th>\n      <td>1</td>\n      <td>40</td>\n      <td>[21]</td>\n      <td>5</td>\n      <td>5</td>\n      <td>2</td>\n      <td>moving</td>\n      <td>False</td>\n      <td>258.307330</td>\n      <td>True</td>\n      <td>4.0</td>\n      <td>False</td>\n      <td>[39]</td>\n      <td>[[39, 0, 0], [39, 1, 0], [39, 1, 1], [39, 1, 2...</td>\n      <td>[0.0, 1.875]</td>\n      <td>(4, 5)</td>\n      <td>fire-master-b-5</td>\n      <td>1548.082044</td>\n    </tr>\n    <tr>\n      <th>2</th>\n      <td>2</td>\n      <td>40</td>\n      <td>[21]</td>\n      <td>5</td>\n      <td>5</td>\n      <td>3</td>\n      <td>moving</td>\n      <td>False</td>\n      <td>1285.918009</td>\n      <td>True</td>\n      <td>4.0</td>\n      <td>True</td>\n      <td>[39]</td>\n      <td>[[39, 0, 0], [39, 1, 0], [39, 1, 1], [39, 1, 2...</td>\n      <td>[0.925, 1.875, 2.125]</td>\n      <td>(4, 5)</td>\n      <td>fire-master-b-5</td>\n      <td>1548.082044</td>\n    </tr>\n    <tr>\n      <th>0</th>\n      <td>0</td>\n      <td>40</td>\n      <td>[21]</td>\n      <td>6</td>\n      <td>3</td>\n      <td>1</td>\n      <td>moving</td>\n      <td>False</td>\n      <td>0.029327</td>\n      <td>True</td>\n      <td>3.0</td>\n      <td>False</td>\n      <td>[39]</td>\n      <td>[[39, 0, 0], [38, 1, 0], [38, 1, 1], [38, 1, 2]]</td>\n      <td>[0.425]</td>\n      <td>(0, 5)</td>\n      <td>fire-master-a-6</td>\n      <td>45.039421</td>\n    </tr>\n    <tr>\n      <th>1</th>\n      <td>1</td>\n      <td>40</td>\n      <td>[21]</td>\n      <td>6</td>\n      <td>3</td>\n      <td>2</td>\n      <td>moving</td>\n      <td>False</td>\n      <td>2.133433</td>\n      <td>True</td>\n      <td>6.0</td>\n      <td>False</td>\n      <td>[39]</td>\n      <td>[[39, 0, 0], [39, 1, 0], [39, 1, 1], [39, 1, 2...</td>\n      <td>[0.0, 1.725]</td>\n      <td>(0, 5)</td>\n      <td>fire-master-a-6</td>\n      <td>45.039421</td>\n    </tr>\n    <tr>\n      <th>2</th>\n      <td>2</td>\n      <td>40</td>\n      <td>[21]</td>\n      <td>6</td>\n      <td>3</td>\n      <td>3</td>\n      <td>moving</td>\n      <td>False</td>\n      <td>42.876661</td>\n      <td>True</td>\n      <td>6.0</td>\n      <td>True</td>\n      <td>[39]</td>\n      <td>[[39, 0, 0], [38, 1, 0], [38, 1, 1], [38, 1, 2...</td>\n      <td>[0.42500000000000004, 1.8250000000000002, 3.0]</td>\n      <td>(0, 5)</td>\n      <td>fire-master-a-6</td>\n      <td>45.039421</td>\n    </tr>\n    <tr>\n      <th>0</th>\n      <td>0</td>\n      <td>40</td>\n      <td>[21]</td>\n      <td>6</td>\n      <td>3</td>\n      <td>1</td>\n      <td>moving</td>\n      <td>False</td>\n      <td>0.025946</td>\n      <td>True</td>\n      <td>3.0</td>\n      <td>False</td>\n      <td>[39]</td>\n      <td>[[39, 0, 0], [38, 1, 0], [38, 1, 1], [38, 1, 2]]</td>\n      <td>[0.425]</td>\n      <td>(4, 5)</td>\n      <td>fire-master-b-6</td>\n      <td>44.797360</td>\n    </tr>\n    <tr>\n      <th>1</th>\n      <td>1</td>\n      <td>40</td>\n      <td>[21]</td>\n      <td>6</td>\n      <td>3</td>\n      <td>2</td>\n      <td>moving</td>\n      <td>False</td>\n      <td>2.147001</td>\n      <td>True</td>\n      <td>6.0</td>\n      <td>False</td>\n      <td>[39]</td>\n      <td>[[39, 0, 0], [39, 1, 0], [39, 1, 1], [39, 1, 2...</td>\n      <td>[0.0, 1.725]</td>\n      <td>(4, 5)</td>\n      <td>fire-master-b-6</td>\n      <td>44.797360</td>\n    </tr>\n    <tr>\n      <th>2</th>\n      <td>2</td>\n      <td>40</td>\n      <td>[21]</td>\n      <td>6</td>\n      <td>3</td>\n      <td>3</td>\n      <td>moving</td>\n      <td>False</td>\n      <td>42.624413</td>\n      <td>True</td>\n      <td>6.0</td>\n      <td>True</td>\n      <td>[39]</td>\n      <td>[[39, 0, 0], [38, 1, 0], [38, 1, 1], [38, 1, 2...</td>\n      <td>[0.42500000000000004, 1.8250000000000002, 3.0]</td>\n      <td>(4, 5)</td>\n      <td>fire-master-b-6</td>\n      <td>44.797360</td>\n    </tr>\n    <tr>\n      <th>0</th>\n      <td>0</td>\n      <td>40</td>\n      <td>[21]</td>\n      <td>7</td>\n      <td>3</td>\n      <td>1</td>\n      <td>moving</td>\n      <td>False</td>\n      <td>0.025667</td>\n      <td>True</td>\n      <td>3.0</td>\n      <td>False</td>\n      <td>[39]</td>\n      <td>[[39, 0, 0], [38, 1, 0], [38, 1, 1], [38, 1, 2]]</td>\n      <td>[0.5]</td>\n      <td>(0, 5)</td>\n      <td>fire-master-a-7</td>\n      <td>123.125909</td>\n    </tr>\n    <tr>\n      <th>1</th>\n      <td>1</td>\n      <td>40</td>\n      <td>[21]</td>\n      <td>7</td>\n      <td>3</td>\n      <td>2</td>\n      <td>moving</td>\n      <td>False</td>\n      <td>0.980786</td>\n      <td>True</td>\n      <td>6.0</td>\n      <td>False</td>\n      <td>[39]</td>\n      <td>[[39, 0, 0], [38, 1, 0], [38, 1, 1], [38, 1, 2...</td>\n      <td>[0.5, 2.0]</td>\n      <td>(0, 5)</td>\n      <td>fire-master-a-7</td>\n      <td>123.125909</td>\n    </tr>\n    <tr>\n      <th>2</th>\n      <td>2</td>\n      <td>40</td>\n      <td>[21]</td>\n      <td>7</td>\n      <td>3</td>\n      <td>3</td>\n      <td>moving</td>\n      <td>False</td>\n      <td>33.973599</td>\n      <td>True</td>\n      <td>7.0</td>\n      <td>False</td>\n      <td>[39]</td>\n      <td>[[39, 0, 0], [39, 1, 0], [39, 1, 1], [39, 1, 2...</td>\n      <td>[0.0, 1.4000000000000001, 2.8]</td>\n      <td>(0, 5)</td>\n      <td>fire-master-a-7</td>\n      <td>123.125909</td>\n    </tr>\n    <tr>\n      <th>3</th>\n      <td>3</td>\n      <td>40</td>\n      <td>[21]</td>\n      <td>7</td>\n      <td>3</td>\n      <td>4</td>\n      <td>moving</td>\n      <td>False</td>\n      <td>88.145857</td>\n      <td>True</td>\n      <td>7.0</td>\n      <td>True</td>\n      <td>[39]</td>\n      <td>[[39, 0, 0], [39, 1, 0], [39, 1, 1], [39, 1, 2...</td>\n      <td>[0.0, 1.9000000000000001, 2.8500000000000005, ...</td>\n      <td>(0, 5)</td>\n      <td>fire-master-a-7</td>\n      <td>123.125909</td>\n    </tr>\n    <tr>\n      <th>0</th>\n      <td>0</td>\n      <td>40</td>\n      <td>[21]</td>\n      <td>7</td>\n      <td>3</td>\n      <td>1</td>\n      <td>moving</td>\n      <td>False</td>\n      <td>0.025818</td>\n      <td>True</td>\n      <td>3.0</td>\n      <td>False</td>\n      <td>[39]</td>\n      <td>[[39, 0, 0], [38, 1, 0], [38, 1, 1], [38, 1, 2]]</td>\n      <td>[0.5]</td>\n      <td>(4, 5)</td>\n      <td>fire-master-b-7</td>\n      <td>124.035964</td>\n    </tr>\n    <tr>\n      <th>1</th>\n      <td>1</td>\n      <td>40</td>\n      <td>[21]</td>\n      <td>7</td>\n      <td>3</td>\n      <td>2</td>\n      <td>moving</td>\n      <td>False</td>\n      <td>0.987089</td>\n      <td>True</td>\n      <td>6.0</td>\n      <td>False</td>\n      <td>[39]</td>\n      <td>[[39, 0, 0], [38, 1, 0], [38, 1, 1], [38, 1, 2...</td>\n      <td>[0.5, 2.0]</td>\n      <td>(4, 5)</td>\n      <td>fire-master-b-7</td>\n      <td>124.035964</td>\n    </tr>\n    <tr>\n      <th>2</th>\n      <td>2</td>\n      <td>40</td>\n      <td>[21]</td>\n      <td>7</td>\n      <td>3</td>\n      <td>3</td>\n      <td>moving</td>\n      <td>False</td>\n      <td>34.201156</td>\n      <td>True</td>\n      <td>7.0</td>\n      <td>False</td>\n      <td>[39]</td>\n      <td>[[39, 0, 0], [39, 1, 0], [39, 1, 1], [39, 1, 2...</td>\n      <td>[0.0, 1.4000000000000001, 2.8]</td>\n      <td>(4, 5)</td>\n      <td>fire-master-b-7</td>\n      <td>124.035964</td>\n    </tr>\n    <tr>\n      <th>3</th>\n      <td>3</td>\n      <td>40</td>\n      <td>[21]</td>\n      <td>7</td>\n      <td>3</td>\n      <td>4</td>\n      <td>moving</td>\n      <td>False</td>\n      <td>88.821901</td>\n      <td>True</td>\n      <td>7.0</td>\n      <td>True</td>\n      <td>[39]</td>\n      <td>[[39, 0, 0], [39, 1, 0], [39, 1, 1], [39, 1, 2...</td>\n      <td>[0.0, 1.9000000000000001, 2.8500000000000005, ...</td>\n      <td>(4, 5)</td>\n      <td>fire-master-b-7</td>\n      <td>124.035964</td>\n    </tr>\n  </tbody>\n</table>\n</div>"
     },
     "execution_count": 27,
     "metadata": {},
     "output_type": "execute_result"
    }
   ],
   "source": [
    "combined_data"
   ],
   "metadata": {
    "collapsed": false
   }
  },
  {
   "cell_type": "code",
   "execution_count": 28,
   "outputs": [
    {
     "name": "stdout",
     "output_type": "stream",
     "text": [
      "{'avatar-fire-master-0-a': {'essay': 0, 'total_reward': 0.9473684210526315, 'burt_nodes': 3, 'step': 11}, 'avatar-fire-master-0-b': {'essay': 0, 'total_reward': 0.9473684210526315, 'burt_nodes': 3, 'step': 10}, 'avatar-fire-master-1-a': {'essay': 0, 'total_reward': 0.8157894736842105, 'burt_nodes': 8, 'step': 11}, 'avatar-fire-master-1-b': {'essay': 0, 'total_reward': 0.8157894736842105, 'burt_nodes': 8, 'step': 11}, 'avatar-fire-master-2-a': {'essay': 0, 'total_reward': 0.7894736842105263, 'burt_nodes': 9, 'step': 11}, 'avatar-fire-master-2-b': {'essay': 0, 'total_reward': 0.7894736842105263, 'burt_nodes': 9, 'step': 11}, 'avatar-fire-master-3-a': {'essay': 0, 'total_reward': 0.47368421052631576, 'burt_nodes': 21, 'step': 11}, 'avatar-fire-master-3-b': {'essay': 0, 'total_reward': 0.47368421052631576, 'burt_nodes': 21, 'step': 11}, 'avatar-fire-master-4-a': {'essay': 0, 'total_reward': 0.8157894736842105, 'burt_nodes': 8, 'step': 13}, 'avatar-fire-master-4-b': {'essay': 0, 'total_reward': 0.8157894736842105, 'burt_nodes': 8, 'step': 13}, 'avatar-fire-master-5-a': {'essay': 0, 'total_reward': 0.8157894736842105, 'burt_nodes': 8, 'step': 13}, 'avatar-fire-master-5-b': {'essay': 0, 'total_reward': 0.8157894736842105, 'burt_nodes': 8, 'step': 13}, 'avatar-fire-master-6-a': {'essay': 0, 'total_reward': 0.6842105263157895, 'burt_nodes': 13, 'step': 13}, 'avatar-fire-master-6-b': {'essay': 0, 'total_reward': 0.6842105263157895, 'burt_nodes': 13, 'step': 13}, 'avatar-fire-master-7-a': {'essay': 0, 'total_reward': 0.5789473684210527, 'burt_nodes': 17, 'step': 15}, 'avatar-fire-master-7-b': {'essay': 0, 'total_reward': 0.5789473684210527, 'burt_nodes': 17, 'step': 15}}\n"
     ]
    }
   ],
   "source": [
    "# Total objective for the RL algorithm\n",
    "\n",
    "RL_objective = {\n",
    "    \"fire-master-a-1\": 0,\n",
    "    \"fire-master-a-2\": 0,\n",
    "    \"fire-master-a-3\": 0,\n",
    "    \"fire-master-a-4\": 0,\n",
    "    \"fire-master-a-5\": 0,\n",
    "    \"fire-master-a-6\": 0,\n",
    "    \"fire-master-a-7\": 0,\n",
    "\n",
    "    \"fire-master-b-0\": 0,\n",
    "    \"fire-master-b-1\": 0,\n",
    "    \"fire-master-b-2\": 0,\n",
    "    \"fire-master-b-3\": 0,\n",
    "    \"fire-master-b-4\": 0,\n",
    "    \"fire-master-b-5\": 0,\n",
    "    \"fire-master-b-6\": 0,\n",
    "    \"fire-master-b-7\": 0,\n",
    "\n",
    "\n",
    "}"
   ],
   "metadata": {
    "collapsed": false
   }
  },
  {
   "cell_type": "code",
   "execution_count": 29,
   "outputs": [
    {
     "data": {
      "application/vnd.plotly.v1+json": {
       "data": [
        {
         "marker": {
          "color": [
           "#22A699",
           "#F29727",
           "#22A699",
           "#F29727",
           "#22A699",
           "#F29727",
           "#22A699",
           "#F29727",
           "#22A699",
           "#F29727",
           "#22A699",
           "#F29727",
           "#22A699",
           "#F29727",
           "#22A699",
           "#F29727"
          ]
         },
         "x": [
          "fire-master-a-0",
          "fire-master-b-0",
          "fire-master-a-1",
          "fire-master-b-1",
          "fire-master-a-2",
          "fire-master-b-2",
          "fire-master-a-3",
          "fire-master-b-3",
          "fire-master-a-4",
          "fire-master-b-4",
          "fire-master-a-5",
          "fire-master-b-5",
          "fire-master-a-6",
          "fire-master-b-6",
          "fire-master-a-7",
          "fire-master-b-7"
         ],
         "y": [
          1.0,
          1.0,
          2.0,
          3.0,
          5.0,
          5.0,
          16.0,
          16.0,
          3.0,
          3.0,
          4.0,
          4.0,
          6.0,
          6.0,
          7.0,
          7.0
         ],
         "type": "bar"
        }
       ],
       "layout": {
        "template": {
         "data": {
          "histogram2dcontour": [
           {
            "type": "histogram2dcontour",
            "colorbar": {
             "outlinewidth": 0,
             "ticks": ""
            },
            "colorscale": [
             [
              0.0,
              "#0d0887"
             ],
             [
              0.1111111111111111,
              "#46039f"
             ],
             [
              0.2222222222222222,
              "#7201a8"
             ],
             [
              0.3333333333333333,
              "#9c179e"
             ],
             [
              0.4444444444444444,
              "#bd3786"
             ],
             [
              0.5555555555555556,
              "#d8576b"
             ],
             [
              0.6666666666666666,
              "#ed7953"
             ],
             [
              0.7777777777777778,
              "#fb9f3a"
             ],
             [
              0.8888888888888888,
              "#fdca26"
             ],
             [
              1.0,
              "#f0f921"
             ]
            ]
           }
          ],
          "choropleth": [
           {
            "type": "choropleth",
            "colorbar": {
             "outlinewidth": 0,
             "ticks": ""
            }
           }
          ],
          "histogram2d": [
           {
            "type": "histogram2d",
            "colorbar": {
             "outlinewidth": 0,
             "ticks": ""
            },
            "colorscale": [
             [
              0.0,
              "#0d0887"
             ],
             [
              0.1111111111111111,
              "#46039f"
             ],
             [
              0.2222222222222222,
              "#7201a8"
             ],
             [
              0.3333333333333333,
              "#9c179e"
             ],
             [
              0.4444444444444444,
              "#bd3786"
             ],
             [
              0.5555555555555556,
              "#d8576b"
             ],
             [
              0.6666666666666666,
              "#ed7953"
             ],
             [
              0.7777777777777778,
              "#fb9f3a"
             ],
             [
              0.8888888888888888,
              "#fdca26"
             ],
             [
              1.0,
              "#f0f921"
             ]
            ]
           }
          ],
          "heatmap": [
           {
            "type": "heatmap",
            "colorbar": {
             "outlinewidth": 0,
             "ticks": ""
            },
            "colorscale": [
             [
              0.0,
              "#0d0887"
             ],
             [
              0.1111111111111111,
              "#46039f"
             ],
             [
              0.2222222222222222,
              "#7201a8"
             ],
             [
              0.3333333333333333,
              "#9c179e"
             ],
             [
              0.4444444444444444,
              "#bd3786"
             ],
             [
              0.5555555555555556,
              "#d8576b"
             ],
             [
              0.6666666666666666,
              "#ed7953"
             ],
             [
              0.7777777777777778,
              "#fb9f3a"
             ],
             [
              0.8888888888888888,
              "#fdca26"
             ],
             [
              1.0,
              "#f0f921"
             ]
            ]
           }
          ],
          "heatmapgl": [
           {
            "type": "heatmapgl",
            "colorbar": {
             "outlinewidth": 0,
             "ticks": ""
            },
            "colorscale": [
             [
              0.0,
              "#0d0887"
             ],
             [
              0.1111111111111111,
              "#46039f"
             ],
             [
              0.2222222222222222,
              "#7201a8"
             ],
             [
              0.3333333333333333,
              "#9c179e"
             ],
             [
              0.4444444444444444,
              "#bd3786"
             ],
             [
              0.5555555555555556,
              "#d8576b"
             ],
             [
              0.6666666666666666,
              "#ed7953"
             ],
             [
              0.7777777777777778,
              "#fb9f3a"
             ],
             [
              0.8888888888888888,
              "#fdca26"
             ],
             [
              1.0,
              "#f0f921"
             ]
            ]
           }
          ],
          "contourcarpet": [
           {
            "type": "contourcarpet",
            "colorbar": {
             "outlinewidth": 0,
             "ticks": ""
            }
           }
          ],
          "contour": [
           {
            "type": "contour",
            "colorbar": {
             "outlinewidth": 0,
             "ticks": ""
            },
            "colorscale": [
             [
              0.0,
              "#0d0887"
             ],
             [
              0.1111111111111111,
              "#46039f"
             ],
             [
              0.2222222222222222,
              "#7201a8"
             ],
             [
              0.3333333333333333,
              "#9c179e"
             ],
             [
              0.4444444444444444,
              "#bd3786"
             ],
             [
              0.5555555555555556,
              "#d8576b"
             ],
             [
              0.6666666666666666,
              "#ed7953"
             ],
             [
              0.7777777777777778,
              "#fb9f3a"
             ],
             [
              0.8888888888888888,
              "#fdca26"
             ],
             [
              1.0,
              "#f0f921"
             ]
            ]
           }
          ],
          "surface": [
           {
            "type": "surface",
            "colorbar": {
             "outlinewidth": 0,
             "ticks": ""
            },
            "colorscale": [
             [
              0.0,
              "#0d0887"
             ],
             [
              0.1111111111111111,
              "#46039f"
             ],
             [
              0.2222222222222222,
              "#7201a8"
             ],
             [
              0.3333333333333333,
              "#9c179e"
             ],
             [
              0.4444444444444444,
              "#bd3786"
             ],
             [
              0.5555555555555556,
              "#d8576b"
             ],
             [
              0.6666666666666666,
              "#ed7953"
             ],
             [
              0.7777777777777778,
              "#fb9f3a"
             ],
             [
              0.8888888888888888,
              "#fdca26"
             ],
             [
              1.0,
              "#f0f921"
             ]
            ]
           }
          ],
          "mesh3d": [
           {
            "type": "mesh3d",
            "colorbar": {
             "outlinewidth": 0,
             "ticks": ""
            }
           }
          ],
          "scatter": [
           {
            "marker": {
             "line": {
              "color": "#283442"
             }
            },
            "type": "scatter"
           }
          ],
          "parcoords": [
           {
            "type": "parcoords",
            "line": {
             "colorbar": {
              "outlinewidth": 0,
              "ticks": ""
             }
            }
           }
          ],
          "scatterpolargl": [
           {
            "type": "scatterpolargl",
            "marker": {
             "colorbar": {
              "outlinewidth": 0,
              "ticks": ""
             }
            }
           }
          ],
          "bar": [
           {
            "error_x": {
             "color": "#f2f5fa"
            },
            "error_y": {
             "color": "#f2f5fa"
            },
            "marker": {
             "line": {
              "color": "rgb(17,17,17)",
              "width": 0.5
             },
             "pattern": {
              "fillmode": "overlay",
              "size": 10,
              "solidity": 0.2
             }
            },
            "type": "bar"
           }
          ],
          "scattergeo": [
           {
            "type": "scattergeo",
            "marker": {
             "colorbar": {
              "outlinewidth": 0,
              "ticks": ""
             }
            }
           }
          ],
          "scatterpolar": [
           {
            "type": "scatterpolar",
            "marker": {
             "colorbar": {
              "outlinewidth": 0,
              "ticks": ""
             }
            }
           }
          ],
          "histogram": [
           {
            "marker": {
             "pattern": {
              "fillmode": "overlay",
              "size": 10,
              "solidity": 0.2
             }
            },
            "type": "histogram"
           }
          ],
          "scattergl": [
           {
            "marker": {
             "line": {
              "color": "#283442"
             }
            },
            "type": "scattergl"
           }
          ],
          "scatter3d": [
           {
            "type": "scatter3d",
            "line": {
             "colorbar": {
              "outlinewidth": 0,
              "ticks": ""
             }
            },
            "marker": {
             "colorbar": {
              "outlinewidth": 0,
              "ticks": ""
             }
            }
           }
          ],
          "scattermapbox": [
           {
            "type": "scattermapbox",
            "marker": {
             "colorbar": {
              "outlinewidth": 0,
              "ticks": ""
             }
            }
           }
          ],
          "scatterternary": [
           {
            "type": "scatterternary",
            "marker": {
             "colorbar": {
              "outlinewidth": 0,
              "ticks": ""
             }
            }
           }
          ],
          "scattercarpet": [
           {
            "type": "scattercarpet",
            "marker": {
             "colorbar": {
              "outlinewidth": 0,
              "ticks": ""
             }
            }
           }
          ],
          "carpet": [
           {
            "aaxis": {
             "endlinecolor": "#A2B1C6",
             "gridcolor": "#506784",
             "linecolor": "#506784",
             "minorgridcolor": "#506784",
             "startlinecolor": "#A2B1C6"
            },
            "baxis": {
             "endlinecolor": "#A2B1C6",
             "gridcolor": "#506784",
             "linecolor": "#506784",
             "minorgridcolor": "#506784",
             "startlinecolor": "#A2B1C6"
            },
            "type": "carpet"
           }
          ],
          "table": [
           {
            "cells": {
             "fill": {
              "color": "#506784"
             },
             "line": {
              "color": "rgb(17,17,17)"
             }
            },
            "header": {
             "fill": {
              "color": "#2a3f5f"
             },
             "line": {
              "color": "rgb(17,17,17)"
             }
            },
            "type": "table"
           }
          ],
          "barpolar": [
           {
            "marker": {
             "line": {
              "color": "rgb(17,17,17)",
              "width": 0.5
             },
             "pattern": {
              "fillmode": "overlay",
              "size": 10,
              "solidity": 0.2
             }
            },
            "type": "barpolar"
           }
          ],
          "pie": [
           {
            "automargin": true,
            "type": "pie"
           }
          ]
         },
         "layout": {
          "autotypenumbers": "strict",
          "colorway": [
           "#636efa",
           "#EF553B",
           "#00cc96",
           "#ab63fa",
           "#FFA15A",
           "#19d3f3",
           "#FF6692",
           "#B6E880",
           "#FF97FF",
           "#FECB52"
          ],
          "font": {
           "color": "#f2f5fa"
          },
          "hovermode": "closest",
          "hoverlabel": {
           "align": "left"
          },
          "paper_bgcolor": "rgb(17,17,17)",
          "plot_bgcolor": "rgb(17,17,17)",
          "polar": {
           "bgcolor": "rgb(17,17,17)",
           "angularaxis": {
            "gridcolor": "#506784",
            "linecolor": "#506784",
            "ticks": ""
           },
           "radialaxis": {
            "gridcolor": "#506784",
            "linecolor": "#506784",
            "ticks": ""
           }
          },
          "ternary": {
           "bgcolor": "rgb(17,17,17)",
           "aaxis": {
            "gridcolor": "#506784",
            "linecolor": "#506784",
            "ticks": ""
           },
           "baxis": {
            "gridcolor": "#506784",
            "linecolor": "#506784",
            "ticks": ""
           },
           "caxis": {
            "gridcolor": "#506784",
            "linecolor": "#506784",
            "ticks": ""
           }
          },
          "coloraxis": {
           "colorbar": {
            "outlinewidth": 0,
            "ticks": ""
           }
          },
          "colorscale": {
           "sequential": [
            [
             0.0,
             "#0d0887"
            ],
            [
             0.1111111111111111,
             "#46039f"
            ],
            [
             0.2222222222222222,
             "#7201a8"
            ],
            [
             0.3333333333333333,
             "#9c179e"
            ],
            [
             0.4444444444444444,
             "#bd3786"
            ],
            [
             0.5555555555555556,
             "#d8576b"
            ],
            [
             0.6666666666666666,
             "#ed7953"
            ],
            [
             0.7777777777777778,
             "#fb9f3a"
            ],
            [
             0.8888888888888888,
             "#fdca26"
            ],
            [
             1.0,
             "#f0f921"
            ]
           ],
           "sequentialminus": [
            [
             0.0,
             "#0d0887"
            ],
            [
             0.1111111111111111,
             "#46039f"
            ],
            [
             0.2222222222222222,
             "#7201a8"
            ],
            [
             0.3333333333333333,
             "#9c179e"
            ],
            [
             0.4444444444444444,
             "#bd3786"
            ],
            [
             0.5555555555555556,
             "#d8576b"
            ],
            [
             0.6666666666666666,
             "#ed7953"
            ],
            [
             0.7777777777777778,
             "#fb9f3a"
            ],
            [
             0.8888888888888888,
             "#fdca26"
            ],
            [
             1.0,
             "#f0f921"
            ]
           ],
           "diverging": [
            [
             0,
             "#8e0152"
            ],
            [
             0.1,
             "#c51b7d"
            ],
            [
             0.2,
             "#de77ae"
            ],
            [
             0.3,
             "#f1b6da"
            ],
            [
             0.4,
             "#fde0ef"
            ],
            [
             0.5,
             "#f7f7f7"
            ],
            [
             0.6,
             "#e6f5d0"
            ],
            [
             0.7,
             "#b8e186"
            ],
            [
             0.8,
             "#7fbc41"
            ],
            [
             0.9,
             "#4d9221"
            ],
            [
             1,
             "#276419"
            ]
           ]
          },
          "xaxis": {
           "gridcolor": "#283442",
           "linecolor": "#506784",
           "ticks": "",
           "title": {
            "standoff": 15
           },
           "zerolinecolor": "#283442",
           "automargin": true,
           "zerolinewidth": 2
          },
          "yaxis": {
           "gridcolor": "#283442",
           "linecolor": "#506784",
           "ticks": "",
           "title": {
            "standoff": 15
           },
           "zerolinecolor": "#283442",
           "automargin": true,
           "zerolinewidth": 2
          },
          "scene": {
           "xaxis": {
            "backgroundcolor": "rgb(17,17,17)",
            "gridcolor": "#506784",
            "linecolor": "#506784",
            "showbackground": true,
            "ticks": "",
            "zerolinecolor": "#C8D4E3",
            "gridwidth": 2
           },
           "yaxis": {
            "backgroundcolor": "rgb(17,17,17)",
            "gridcolor": "#506784",
            "linecolor": "#506784",
            "showbackground": true,
            "ticks": "",
            "zerolinecolor": "#C8D4E3",
            "gridwidth": 2
           },
           "zaxis": {
            "backgroundcolor": "rgb(17,17,17)",
            "gridcolor": "#506784",
            "linecolor": "#506784",
            "showbackground": true,
            "ticks": "",
            "zerolinecolor": "#C8D4E3",
            "gridwidth": 2
           }
          },
          "shapedefaults": {
           "line": {
            "color": "#f2f5fa"
           }
          },
          "annotationdefaults": {
           "arrowcolor": "#f2f5fa",
           "arrowhead": 0,
           "arrowwidth": 1
          },
          "geo": {
           "bgcolor": "rgb(17,17,17)",
           "landcolor": "rgb(17,17,17)",
           "subunitcolor": "#506784",
           "showland": true,
           "showlakes": true,
           "lakecolor": "rgb(17,17,17)"
          },
          "title": {
           "x": 0.05
          },
          "updatemenudefaults": {
           "bgcolor": "#506784",
           "borderwidth": 0
          },
          "sliderdefaults": {
           "bgcolor": "#C8D4E3",
           "borderwidth": 1,
           "bordercolor": "rgb(17,17,17)",
           "tickwidth": 0
          },
          "mapbox": {
           "style": "dark"
          }
         }
        },
        "xaxis": {
         "title": {
          "text": "Name"
         },
         "tickangle": -45
        },
        "font": {
         "color": "black"
        },
        "title": {
         "text": "Comparative of results by Name"
        },
        "yaxis": {
         "title": {
          "text": "Burnt Vertices"
         }
        },
        "plot_bgcolor": "white",
        "paper_bgcolor": "white"
       },
       "config": {
        "plotlyServerURL": "https://plot.ly"
       }
      },
      "text/html": "<div>                            <div id=\"96359d4d-531a-4844-8e57-c5e8182c925e\" class=\"plotly-graph-div\" style=\"height:525px; width:100%;\"></div>            <script type=\"text/javascript\">                require([\"plotly\"], function(Plotly) {                    window.PLOTLYENV=window.PLOTLYENV || {};                                    if (document.getElementById(\"96359d4d-531a-4844-8e57-c5e8182c925e\")) {                    Plotly.newPlot(                        \"96359d4d-531a-4844-8e57-c5e8182c925e\",                        [{\"marker\":{\"color\":[\"#22A699\",\"#F29727\",\"#22A699\",\"#F29727\",\"#22A699\",\"#F29727\",\"#22A699\",\"#F29727\",\"#22A699\",\"#F29727\",\"#22A699\",\"#F29727\",\"#22A699\",\"#F29727\",\"#22A699\",\"#F29727\"]},\"x\":[\"fire-master-a-0\",\"fire-master-b-0\",\"fire-master-a-1\",\"fire-master-b-1\",\"fire-master-a-2\",\"fire-master-b-2\",\"fire-master-a-3\",\"fire-master-b-3\",\"fire-master-a-4\",\"fire-master-b-4\",\"fire-master-a-5\",\"fire-master-b-5\",\"fire-master-a-6\",\"fire-master-b-6\",\"fire-master-a-7\",\"fire-master-b-7\"],\"y\":[1.0,1.0,2.0,3.0,5.0,5.0,16.0,16.0,3.0,3.0,4.0,4.0,6.0,6.0,7.0,7.0],\"type\":\"bar\"}],                        {\"template\":{\"data\":{\"histogram2dcontour\":[{\"type\":\"histogram2dcontour\",\"colorbar\":{\"outlinewidth\":0,\"ticks\":\"\"},\"colorscale\":[[0.0,\"#0d0887\"],[0.1111111111111111,\"#46039f\"],[0.2222222222222222,\"#7201a8\"],[0.3333333333333333,\"#9c179e\"],[0.4444444444444444,\"#bd3786\"],[0.5555555555555556,\"#d8576b\"],[0.6666666666666666,\"#ed7953\"],[0.7777777777777778,\"#fb9f3a\"],[0.8888888888888888,\"#fdca26\"],[1.0,\"#f0f921\"]]}],\"choropleth\":[{\"type\":\"choropleth\",\"colorbar\":{\"outlinewidth\":0,\"ticks\":\"\"}}],\"histogram2d\":[{\"type\":\"histogram2d\",\"colorbar\":{\"outlinewidth\":0,\"ticks\":\"\"},\"colorscale\":[[0.0,\"#0d0887\"],[0.1111111111111111,\"#46039f\"],[0.2222222222222222,\"#7201a8\"],[0.3333333333333333,\"#9c179e\"],[0.4444444444444444,\"#bd3786\"],[0.5555555555555556,\"#d8576b\"],[0.6666666666666666,\"#ed7953\"],[0.7777777777777778,\"#fb9f3a\"],[0.8888888888888888,\"#fdca26\"],[1.0,\"#f0f921\"]]}],\"heatmap\":[{\"type\":\"heatmap\",\"colorbar\":{\"outlinewidth\":0,\"ticks\":\"\"},\"colorscale\":[[0.0,\"#0d0887\"],[0.1111111111111111,\"#46039f\"],[0.2222222222222222,\"#7201a8\"],[0.3333333333333333,\"#9c179e\"],[0.4444444444444444,\"#bd3786\"],[0.5555555555555556,\"#d8576b\"],[0.6666666666666666,\"#ed7953\"],[0.7777777777777778,\"#fb9f3a\"],[0.8888888888888888,\"#fdca26\"],[1.0,\"#f0f921\"]]}],\"heatmapgl\":[{\"type\":\"heatmapgl\",\"colorbar\":{\"outlinewidth\":0,\"ticks\":\"\"},\"colorscale\":[[0.0,\"#0d0887\"],[0.1111111111111111,\"#46039f\"],[0.2222222222222222,\"#7201a8\"],[0.3333333333333333,\"#9c179e\"],[0.4444444444444444,\"#bd3786\"],[0.5555555555555556,\"#d8576b\"],[0.6666666666666666,\"#ed7953\"],[0.7777777777777778,\"#fb9f3a\"],[0.8888888888888888,\"#fdca26\"],[1.0,\"#f0f921\"]]}],\"contourcarpet\":[{\"type\":\"contourcarpet\",\"colorbar\":{\"outlinewidth\":0,\"ticks\":\"\"}}],\"contour\":[{\"type\":\"contour\",\"colorbar\":{\"outlinewidth\":0,\"ticks\":\"\"},\"colorscale\":[[0.0,\"#0d0887\"],[0.1111111111111111,\"#46039f\"],[0.2222222222222222,\"#7201a8\"],[0.3333333333333333,\"#9c179e\"],[0.4444444444444444,\"#bd3786\"],[0.5555555555555556,\"#d8576b\"],[0.6666666666666666,\"#ed7953\"],[0.7777777777777778,\"#fb9f3a\"],[0.8888888888888888,\"#fdca26\"],[1.0,\"#f0f921\"]]}],\"surface\":[{\"type\":\"surface\",\"colorbar\":{\"outlinewidth\":0,\"ticks\":\"\"},\"colorscale\":[[0.0,\"#0d0887\"],[0.1111111111111111,\"#46039f\"],[0.2222222222222222,\"#7201a8\"],[0.3333333333333333,\"#9c179e\"],[0.4444444444444444,\"#bd3786\"],[0.5555555555555556,\"#d8576b\"],[0.6666666666666666,\"#ed7953\"],[0.7777777777777778,\"#fb9f3a\"],[0.8888888888888888,\"#fdca26\"],[1.0,\"#f0f921\"]]}],\"mesh3d\":[{\"type\":\"mesh3d\",\"colorbar\":{\"outlinewidth\":0,\"ticks\":\"\"}}],\"scatter\":[{\"marker\":{\"line\":{\"color\":\"#283442\"}},\"type\":\"scatter\"}],\"parcoords\":[{\"type\":\"parcoords\",\"line\":{\"colorbar\":{\"outlinewidth\":0,\"ticks\":\"\"}}}],\"scatterpolargl\":[{\"type\":\"scatterpolargl\",\"marker\":{\"colorbar\":{\"outlinewidth\":0,\"ticks\":\"\"}}}],\"bar\":[{\"error_x\":{\"color\":\"#f2f5fa\"},\"error_y\":{\"color\":\"#f2f5fa\"},\"marker\":{\"line\":{\"color\":\"rgb(17,17,17)\",\"width\":0.5},\"pattern\":{\"fillmode\":\"overlay\",\"size\":10,\"solidity\":0.2}},\"type\":\"bar\"}],\"scattergeo\":[{\"type\":\"scattergeo\",\"marker\":{\"colorbar\":{\"outlinewidth\":0,\"ticks\":\"\"}}}],\"scatterpolar\":[{\"type\":\"scatterpolar\",\"marker\":{\"colorbar\":{\"outlinewidth\":0,\"ticks\":\"\"}}}],\"histogram\":[{\"marker\":{\"pattern\":{\"fillmode\":\"overlay\",\"size\":10,\"solidity\":0.2}},\"type\":\"histogram\"}],\"scattergl\":[{\"marker\":{\"line\":{\"color\":\"#283442\"}},\"type\":\"scattergl\"}],\"scatter3d\":[{\"type\":\"scatter3d\",\"line\":{\"colorbar\":{\"outlinewidth\":0,\"ticks\":\"\"}},\"marker\":{\"colorbar\":{\"outlinewidth\":0,\"ticks\":\"\"}}}],\"scattermapbox\":[{\"type\":\"scattermapbox\",\"marker\":{\"colorbar\":{\"outlinewidth\":0,\"ticks\":\"\"}}}],\"scatterternary\":[{\"type\":\"scatterternary\",\"marker\":{\"colorbar\":{\"outlinewidth\":0,\"ticks\":\"\"}}}],\"scattercarpet\":[{\"type\":\"scattercarpet\",\"marker\":{\"colorbar\":{\"outlinewidth\":0,\"ticks\":\"\"}}}],\"carpet\":[{\"aaxis\":{\"endlinecolor\":\"#A2B1C6\",\"gridcolor\":\"#506784\",\"linecolor\":\"#506784\",\"minorgridcolor\":\"#506784\",\"startlinecolor\":\"#A2B1C6\"},\"baxis\":{\"endlinecolor\":\"#A2B1C6\",\"gridcolor\":\"#506784\",\"linecolor\":\"#506784\",\"minorgridcolor\":\"#506784\",\"startlinecolor\":\"#A2B1C6\"},\"type\":\"carpet\"}],\"table\":[{\"cells\":{\"fill\":{\"color\":\"#506784\"},\"line\":{\"color\":\"rgb(17,17,17)\"}},\"header\":{\"fill\":{\"color\":\"#2a3f5f\"},\"line\":{\"color\":\"rgb(17,17,17)\"}},\"type\":\"table\"}],\"barpolar\":[{\"marker\":{\"line\":{\"color\":\"rgb(17,17,17)\",\"width\":0.5},\"pattern\":{\"fillmode\":\"overlay\",\"size\":10,\"solidity\":0.2}},\"type\":\"barpolar\"}],\"pie\":[{\"automargin\":true,\"type\":\"pie\"}]},\"layout\":{\"autotypenumbers\":\"strict\",\"colorway\":[\"#636efa\",\"#EF553B\",\"#00cc96\",\"#ab63fa\",\"#FFA15A\",\"#19d3f3\",\"#FF6692\",\"#B6E880\",\"#FF97FF\",\"#FECB52\"],\"font\":{\"color\":\"#f2f5fa\"},\"hovermode\":\"closest\",\"hoverlabel\":{\"align\":\"left\"},\"paper_bgcolor\":\"rgb(17,17,17)\",\"plot_bgcolor\":\"rgb(17,17,17)\",\"polar\":{\"bgcolor\":\"rgb(17,17,17)\",\"angularaxis\":{\"gridcolor\":\"#506784\",\"linecolor\":\"#506784\",\"ticks\":\"\"},\"radialaxis\":{\"gridcolor\":\"#506784\",\"linecolor\":\"#506784\",\"ticks\":\"\"}},\"ternary\":{\"bgcolor\":\"rgb(17,17,17)\",\"aaxis\":{\"gridcolor\":\"#506784\",\"linecolor\":\"#506784\",\"ticks\":\"\"},\"baxis\":{\"gridcolor\":\"#506784\",\"linecolor\":\"#506784\",\"ticks\":\"\"},\"caxis\":{\"gridcolor\":\"#506784\",\"linecolor\":\"#506784\",\"ticks\":\"\"}},\"coloraxis\":{\"colorbar\":{\"outlinewidth\":0,\"ticks\":\"\"}},\"colorscale\":{\"sequential\":[[0.0,\"#0d0887\"],[0.1111111111111111,\"#46039f\"],[0.2222222222222222,\"#7201a8\"],[0.3333333333333333,\"#9c179e\"],[0.4444444444444444,\"#bd3786\"],[0.5555555555555556,\"#d8576b\"],[0.6666666666666666,\"#ed7953\"],[0.7777777777777778,\"#fb9f3a\"],[0.8888888888888888,\"#fdca26\"],[1.0,\"#f0f921\"]],\"sequentialminus\":[[0.0,\"#0d0887\"],[0.1111111111111111,\"#46039f\"],[0.2222222222222222,\"#7201a8\"],[0.3333333333333333,\"#9c179e\"],[0.4444444444444444,\"#bd3786\"],[0.5555555555555556,\"#d8576b\"],[0.6666666666666666,\"#ed7953\"],[0.7777777777777778,\"#fb9f3a\"],[0.8888888888888888,\"#fdca26\"],[1.0,\"#f0f921\"]],\"diverging\":[[0,\"#8e0152\"],[0.1,\"#c51b7d\"],[0.2,\"#de77ae\"],[0.3,\"#f1b6da\"],[0.4,\"#fde0ef\"],[0.5,\"#f7f7f7\"],[0.6,\"#e6f5d0\"],[0.7,\"#b8e186\"],[0.8,\"#7fbc41\"],[0.9,\"#4d9221\"],[1,\"#276419\"]]},\"xaxis\":{\"gridcolor\":\"#283442\",\"linecolor\":\"#506784\",\"ticks\":\"\",\"title\":{\"standoff\":15},\"zerolinecolor\":\"#283442\",\"automargin\":true,\"zerolinewidth\":2},\"yaxis\":{\"gridcolor\":\"#283442\",\"linecolor\":\"#506784\",\"ticks\":\"\",\"title\":{\"standoff\":15},\"zerolinecolor\":\"#283442\",\"automargin\":true,\"zerolinewidth\":2},\"scene\":{\"xaxis\":{\"backgroundcolor\":\"rgb(17,17,17)\",\"gridcolor\":\"#506784\",\"linecolor\":\"#506784\",\"showbackground\":true,\"ticks\":\"\",\"zerolinecolor\":\"#C8D4E3\",\"gridwidth\":2},\"yaxis\":{\"backgroundcolor\":\"rgb(17,17,17)\",\"gridcolor\":\"#506784\",\"linecolor\":\"#506784\",\"showbackground\":true,\"ticks\":\"\",\"zerolinecolor\":\"#C8D4E3\",\"gridwidth\":2},\"zaxis\":{\"backgroundcolor\":\"rgb(17,17,17)\",\"gridcolor\":\"#506784\",\"linecolor\":\"#506784\",\"showbackground\":true,\"ticks\":\"\",\"zerolinecolor\":\"#C8D4E3\",\"gridwidth\":2}},\"shapedefaults\":{\"line\":{\"color\":\"#f2f5fa\"}},\"annotationdefaults\":{\"arrowcolor\":\"#f2f5fa\",\"arrowhead\":0,\"arrowwidth\":1},\"geo\":{\"bgcolor\":\"rgb(17,17,17)\",\"landcolor\":\"rgb(17,17,17)\",\"subunitcolor\":\"#506784\",\"showland\":true,\"showlakes\":true,\"lakecolor\":\"rgb(17,17,17)\"},\"title\":{\"x\":0.05},\"updatemenudefaults\":{\"bgcolor\":\"#506784\",\"borderwidth\":0},\"sliderdefaults\":{\"bgcolor\":\"#C8D4E3\",\"borderwidth\":1,\"bordercolor\":\"rgb(17,17,17)\",\"tickwidth\":0},\"mapbox\":{\"style\":\"dark\"}}},\"xaxis\":{\"title\":{\"text\":\"Name\"},\"tickangle\":-45},\"font\":{\"color\":\"black\"},\"title\":{\"text\":\"Comparative of results by Name\"},\"yaxis\":{\"title\":{\"text\":\"Burnt Vertices\"}},\"plot_bgcolor\":\"white\",\"paper_bgcolor\":\"white\"},                        {\"responsive\": true}                    ).then(function(){\n                            \nvar gd = document.getElementById('96359d4d-531a-4844-8e57-c5e8182c925e');\nvar x = new MutationObserver(function (mutations, observer) {{\n        var display = window.getComputedStyle(gd).display;\n        if (!display || display === 'none') {{\n            console.log([gd, 'removed!']);\n            Plotly.purge(gd);\n            observer.disconnect();\n        }}\n}});\n\n// Listen for the removal of the full notebook cells\nvar notebookContainer = gd.closest('#notebook-container');\nif (notebookContainer) {{\n    x.observe(notebookContainer, {childList: true});\n}}\n\n// Listen for the clearing of the current output cell\nvar outputEl = gd.closest('.output');\nif (outputEl) {{\n    x.observe(outputEl, {childList: true});\n}}\n\n                        })                };                });            </script>        </div>"
     },
     "metadata": {},
     "output_type": "display_data"
    }
   ],
   "source": [
    "finish_process_df = combined_data[combined_data['is_upper_bound'] == True].copy()\n",
    "\n",
    "# Create a list of colors for each group\n",
    "colors = []\n",
    "for name in finish_process_df['name']:\n",
    "    if '-a-' in name:\n",
    "        colors.append('#22A699')\n",
    "    else:\n",
    "        colors.append('#F29727')\n",
    "\n",
    "# Create the bar plot\n",
    "fig = go.Figure(data=go.Bar(x=finish_process_df['name'], y=finish_process_df['objective'], marker_color=colors))\n",
    "\n",
    "# Customize the layout\n",
    "fig.update_layout(\n",
    "    title='Comparative of results by Name',\n",
    "    xaxis_title='Name',\n",
    "    yaxis_title='Burnt Vertices',\n",
    "    xaxis_tickangle=-45,\n",
    "    #yaxis_type='log',  # Set y-axis to log scale\n",
    "    #yaxis_tickformat=',.0f',  # Display numbers with commas as thousand separators\n",
    "    plot_bgcolor='white',\n",
    "    paper_bgcolor='white',\n",
    "    font=dict(color='black')\n",
    ")\n",
    "\n",
    "\n",
    "# Save the figure as an image file\n",
    "fig.write_image(\"MFP-of-Grid-instances-objective.png\")\n",
    "\n",
    "# Show the plot\n",
    "fig.show()\n"
   ],
   "metadata": {
    "collapsed": false
   }
  },
  {
   "cell_type": "code",
   "execution_count": 30,
   "outputs": [
    {
     "data": {
      "application/vnd.plotly.v1+json": {
       "data": [
        {
         "marker": {
          "color": [
           "#22A699",
           "#F29727",
           "#22A699",
           "#F29727",
           "#22A699",
           "#F29727",
           "#22A699",
           "#F29727",
           "#22A699",
           "#F29727",
           "#22A699",
           "#F29727",
           "#22A699",
           "#F29727",
           "#22A699",
           "#F29727"
          ]
         },
         "x": [
          "fire-master-a-0",
          "fire-master-b-0",
          "fire-master-a-1",
          "fire-master-b-1",
          "fire-master-a-2",
          "fire-master-b-2",
          "fire-master-a-3",
          "fire-master-b-3",
          "fire-master-a-4",
          "fire-master-b-4",
          "fire-master-a-5",
          "fire-master-b-5",
          "fire-master-a-6",
          "fire-master-b-6",
          "fire-master-a-7",
          "fire-master-b-7"
         ],
         "y": [
          1.0,
          1.0,
          2.0,
          3.0,
          5.0,
          5.0,
          16.0,
          16.0,
          3.0,
          3.0,
          4.0,
          4.0,
          6.0,
          6.0,
          7.0,
          7.0
         ],
         "type": "bar"
        }
       ],
       "layout": {
        "template": {
         "data": {
          "histogram2dcontour": [
           {
            "type": "histogram2dcontour",
            "colorbar": {
             "outlinewidth": 0,
             "ticks": ""
            },
            "colorscale": [
             [
              0.0,
              "#0d0887"
             ],
             [
              0.1111111111111111,
              "#46039f"
             ],
             [
              0.2222222222222222,
              "#7201a8"
             ],
             [
              0.3333333333333333,
              "#9c179e"
             ],
             [
              0.4444444444444444,
              "#bd3786"
             ],
             [
              0.5555555555555556,
              "#d8576b"
             ],
             [
              0.6666666666666666,
              "#ed7953"
             ],
             [
              0.7777777777777778,
              "#fb9f3a"
             ],
             [
              0.8888888888888888,
              "#fdca26"
             ],
             [
              1.0,
              "#f0f921"
             ]
            ]
           }
          ],
          "choropleth": [
           {
            "type": "choropleth",
            "colorbar": {
             "outlinewidth": 0,
             "ticks": ""
            }
           }
          ],
          "histogram2d": [
           {
            "type": "histogram2d",
            "colorbar": {
             "outlinewidth": 0,
             "ticks": ""
            },
            "colorscale": [
             [
              0.0,
              "#0d0887"
             ],
             [
              0.1111111111111111,
              "#46039f"
             ],
             [
              0.2222222222222222,
              "#7201a8"
             ],
             [
              0.3333333333333333,
              "#9c179e"
             ],
             [
              0.4444444444444444,
              "#bd3786"
             ],
             [
              0.5555555555555556,
              "#d8576b"
             ],
             [
              0.6666666666666666,
              "#ed7953"
             ],
             [
              0.7777777777777778,
              "#fb9f3a"
             ],
             [
              0.8888888888888888,
              "#fdca26"
             ],
             [
              1.0,
              "#f0f921"
             ]
            ]
           }
          ],
          "heatmap": [
           {
            "type": "heatmap",
            "colorbar": {
             "outlinewidth": 0,
             "ticks": ""
            },
            "colorscale": [
             [
              0.0,
              "#0d0887"
             ],
             [
              0.1111111111111111,
              "#46039f"
             ],
             [
              0.2222222222222222,
              "#7201a8"
             ],
             [
              0.3333333333333333,
              "#9c179e"
             ],
             [
              0.4444444444444444,
              "#bd3786"
             ],
             [
              0.5555555555555556,
              "#d8576b"
             ],
             [
              0.6666666666666666,
              "#ed7953"
             ],
             [
              0.7777777777777778,
              "#fb9f3a"
             ],
             [
              0.8888888888888888,
              "#fdca26"
             ],
             [
              1.0,
              "#f0f921"
             ]
            ]
           }
          ],
          "heatmapgl": [
           {
            "type": "heatmapgl",
            "colorbar": {
             "outlinewidth": 0,
             "ticks": ""
            },
            "colorscale": [
             [
              0.0,
              "#0d0887"
             ],
             [
              0.1111111111111111,
              "#46039f"
             ],
             [
              0.2222222222222222,
              "#7201a8"
             ],
             [
              0.3333333333333333,
              "#9c179e"
             ],
             [
              0.4444444444444444,
              "#bd3786"
             ],
             [
              0.5555555555555556,
              "#d8576b"
             ],
             [
              0.6666666666666666,
              "#ed7953"
             ],
             [
              0.7777777777777778,
              "#fb9f3a"
             ],
             [
              0.8888888888888888,
              "#fdca26"
             ],
             [
              1.0,
              "#f0f921"
             ]
            ]
           }
          ],
          "contourcarpet": [
           {
            "type": "contourcarpet",
            "colorbar": {
             "outlinewidth": 0,
             "ticks": ""
            }
           }
          ],
          "contour": [
           {
            "type": "contour",
            "colorbar": {
             "outlinewidth": 0,
             "ticks": ""
            },
            "colorscale": [
             [
              0.0,
              "#0d0887"
             ],
             [
              0.1111111111111111,
              "#46039f"
             ],
             [
              0.2222222222222222,
              "#7201a8"
             ],
             [
              0.3333333333333333,
              "#9c179e"
             ],
             [
              0.4444444444444444,
              "#bd3786"
             ],
             [
              0.5555555555555556,
              "#d8576b"
             ],
             [
              0.6666666666666666,
              "#ed7953"
             ],
             [
              0.7777777777777778,
              "#fb9f3a"
             ],
             [
              0.8888888888888888,
              "#fdca26"
             ],
             [
              1.0,
              "#f0f921"
             ]
            ]
           }
          ],
          "surface": [
           {
            "type": "surface",
            "colorbar": {
             "outlinewidth": 0,
             "ticks": ""
            },
            "colorscale": [
             [
              0.0,
              "#0d0887"
             ],
             [
              0.1111111111111111,
              "#46039f"
             ],
             [
              0.2222222222222222,
              "#7201a8"
             ],
             [
              0.3333333333333333,
              "#9c179e"
             ],
             [
              0.4444444444444444,
              "#bd3786"
             ],
             [
              0.5555555555555556,
              "#d8576b"
             ],
             [
              0.6666666666666666,
              "#ed7953"
             ],
             [
              0.7777777777777778,
              "#fb9f3a"
             ],
             [
              0.8888888888888888,
              "#fdca26"
             ],
             [
              1.0,
              "#f0f921"
             ]
            ]
           }
          ],
          "mesh3d": [
           {
            "type": "mesh3d",
            "colorbar": {
             "outlinewidth": 0,
             "ticks": ""
            }
           }
          ],
          "scatter": [
           {
            "marker": {
             "line": {
              "color": "#283442"
             }
            },
            "type": "scatter"
           }
          ],
          "parcoords": [
           {
            "type": "parcoords",
            "line": {
             "colorbar": {
              "outlinewidth": 0,
              "ticks": ""
             }
            }
           }
          ],
          "scatterpolargl": [
           {
            "type": "scatterpolargl",
            "marker": {
             "colorbar": {
              "outlinewidth": 0,
              "ticks": ""
             }
            }
           }
          ],
          "bar": [
           {
            "error_x": {
             "color": "#f2f5fa"
            },
            "error_y": {
             "color": "#f2f5fa"
            },
            "marker": {
             "line": {
              "color": "rgb(17,17,17)",
              "width": 0.5
             },
             "pattern": {
              "fillmode": "overlay",
              "size": 10,
              "solidity": 0.2
             }
            },
            "type": "bar"
           }
          ],
          "scattergeo": [
           {
            "type": "scattergeo",
            "marker": {
             "colorbar": {
              "outlinewidth": 0,
              "ticks": ""
             }
            }
           }
          ],
          "scatterpolar": [
           {
            "type": "scatterpolar",
            "marker": {
             "colorbar": {
              "outlinewidth": 0,
              "ticks": ""
             }
            }
           }
          ],
          "histogram": [
           {
            "marker": {
             "pattern": {
              "fillmode": "overlay",
              "size": 10,
              "solidity": 0.2
             }
            },
            "type": "histogram"
           }
          ],
          "scattergl": [
           {
            "marker": {
             "line": {
              "color": "#283442"
             }
            },
            "type": "scattergl"
           }
          ],
          "scatter3d": [
           {
            "type": "scatter3d",
            "line": {
             "colorbar": {
              "outlinewidth": 0,
              "ticks": ""
             }
            },
            "marker": {
             "colorbar": {
              "outlinewidth": 0,
              "ticks": ""
             }
            }
           }
          ],
          "scattermapbox": [
           {
            "type": "scattermapbox",
            "marker": {
             "colorbar": {
              "outlinewidth": 0,
              "ticks": ""
             }
            }
           }
          ],
          "scatterternary": [
           {
            "type": "scatterternary",
            "marker": {
             "colorbar": {
              "outlinewidth": 0,
              "ticks": ""
             }
            }
           }
          ],
          "scattercarpet": [
           {
            "type": "scattercarpet",
            "marker": {
             "colorbar": {
              "outlinewidth": 0,
              "ticks": ""
             }
            }
           }
          ],
          "carpet": [
           {
            "aaxis": {
             "endlinecolor": "#A2B1C6",
             "gridcolor": "#506784",
             "linecolor": "#506784",
             "minorgridcolor": "#506784",
             "startlinecolor": "#A2B1C6"
            },
            "baxis": {
             "endlinecolor": "#A2B1C6",
             "gridcolor": "#506784",
             "linecolor": "#506784",
             "minorgridcolor": "#506784",
             "startlinecolor": "#A2B1C6"
            },
            "type": "carpet"
           }
          ],
          "table": [
           {
            "cells": {
             "fill": {
              "color": "#506784"
             },
             "line": {
              "color": "rgb(17,17,17)"
             }
            },
            "header": {
             "fill": {
              "color": "#2a3f5f"
             },
             "line": {
              "color": "rgb(17,17,17)"
             }
            },
            "type": "table"
           }
          ],
          "barpolar": [
           {
            "marker": {
             "line": {
              "color": "rgb(17,17,17)",
              "width": 0.5
             },
             "pattern": {
              "fillmode": "overlay",
              "size": 10,
              "solidity": 0.2
             }
            },
            "type": "barpolar"
           }
          ],
          "pie": [
           {
            "automargin": true,
            "type": "pie"
           }
          ]
         },
         "layout": {
          "autotypenumbers": "strict",
          "colorway": [
           "#636efa",
           "#EF553B",
           "#00cc96",
           "#ab63fa",
           "#FFA15A",
           "#19d3f3",
           "#FF6692",
           "#B6E880",
           "#FF97FF",
           "#FECB52"
          ],
          "font": {
           "color": "#f2f5fa"
          },
          "hovermode": "closest",
          "hoverlabel": {
           "align": "left"
          },
          "paper_bgcolor": "rgb(17,17,17)",
          "plot_bgcolor": "rgb(17,17,17)",
          "polar": {
           "bgcolor": "rgb(17,17,17)",
           "angularaxis": {
            "gridcolor": "#506784",
            "linecolor": "#506784",
            "ticks": ""
           },
           "radialaxis": {
            "gridcolor": "#506784",
            "linecolor": "#506784",
            "ticks": ""
           }
          },
          "ternary": {
           "bgcolor": "rgb(17,17,17)",
           "aaxis": {
            "gridcolor": "#506784",
            "linecolor": "#506784",
            "ticks": ""
           },
           "baxis": {
            "gridcolor": "#506784",
            "linecolor": "#506784",
            "ticks": ""
           },
           "caxis": {
            "gridcolor": "#506784",
            "linecolor": "#506784",
            "ticks": ""
           }
          },
          "coloraxis": {
           "colorbar": {
            "outlinewidth": 0,
            "ticks": ""
           }
          },
          "colorscale": {
           "sequential": [
            [
             0.0,
             "#0d0887"
            ],
            [
             0.1111111111111111,
             "#46039f"
            ],
            [
             0.2222222222222222,
             "#7201a8"
            ],
            [
             0.3333333333333333,
             "#9c179e"
            ],
            [
             0.4444444444444444,
             "#bd3786"
            ],
            [
             0.5555555555555556,
             "#d8576b"
            ],
            [
             0.6666666666666666,
             "#ed7953"
            ],
            [
             0.7777777777777778,
             "#fb9f3a"
            ],
            [
             0.8888888888888888,
             "#fdca26"
            ],
            [
             1.0,
             "#f0f921"
            ]
           ],
           "sequentialminus": [
            [
             0.0,
             "#0d0887"
            ],
            [
             0.1111111111111111,
             "#46039f"
            ],
            [
             0.2222222222222222,
             "#7201a8"
            ],
            [
             0.3333333333333333,
             "#9c179e"
            ],
            [
             0.4444444444444444,
             "#bd3786"
            ],
            [
             0.5555555555555556,
             "#d8576b"
            ],
            [
             0.6666666666666666,
             "#ed7953"
            ],
            [
             0.7777777777777778,
             "#fb9f3a"
            ],
            [
             0.8888888888888888,
             "#fdca26"
            ],
            [
             1.0,
             "#f0f921"
            ]
           ],
           "diverging": [
            [
             0,
             "#8e0152"
            ],
            [
             0.1,
             "#c51b7d"
            ],
            [
             0.2,
             "#de77ae"
            ],
            [
             0.3,
             "#f1b6da"
            ],
            [
             0.4,
             "#fde0ef"
            ],
            [
             0.5,
             "#f7f7f7"
            ],
            [
             0.6,
             "#e6f5d0"
            ],
            [
             0.7,
             "#b8e186"
            ],
            [
             0.8,
             "#7fbc41"
            ],
            [
             0.9,
             "#4d9221"
            ],
            [
             1,
             "#276419"
            ]
           ]
          },
          "xaxis": {
           "gridcolor": "#283442",
           "linecolor": "#506784",
           "ticks": "",
           "title": {
            "standoff": 15
           },
           "zerolinecolor": "#283442",
           "automargin": true,
           "zerolinewidth": 2
          },
          "yaxis": {
           "gridcolor": "#283442",
           "linecolor": "#506784",
           "ticks": "",
           "title": {
            "standoff": 15
           },
           "zerolinecolor": "#283442",
           "automargin": true,
           "zerolinewidth": 2
          },
          "scene": {
           "xaxis": {
            "backgroundcolor": "rgb(17,17,17)",
            "gridcolor": "#506784",
            "linecolor": "#506784",
            "showbackground": true,
            "ticks": "",
            "zerolinecolor": "#C8D4E3",
            "gridwidth": 2
           },
           "yaxis": {
            "backgroundcolor": "rgb(17,17,17)",
            "gridcolor": "#506784",
            "linecolor": "#506784",
            "showbackground": true,
            "ticks": "",
            "zerolinecolor": "#C8D4E3",
            "gridwidth": 2
           },
           "zaxis": {
            "backgroundcolor": "rgb(17,17,17)",
            "gridcolor": "#506784",
            "linecolor": "#506784",
            "showbackground": true,
            "ticks": "",
            "zerolinecolor": "#C8D4E3",
            "gridwidth": 2
           }
          },
          "shapedefaults": {
           "line": {
            "color": "#f2f5fa"
           }
          },
          "annotationdefaults": {
           "arrowcolor": "#f2f5fa",
           "arrowhead": 0,
           "arrowwidth": 1
          },
          "geo": {
           "bgcolor": "rgb(17,17,17)",
           "landcolor": "rgb(17,17,17)",
           "subunitcolor": "#506784",
           "showland": true,
           "showlakes": true,
           "lakecolor": "rgb(17,17,17)"
          },
          "title": {
           "x": 0.05
          },
          "updatemenudefaults": {
           "bgcolor": "#506784",
           "borderwidth": 0
          },
          "sliderdefaults": {
           "bgcolor": "#C8D4E3",
           "borderwidth": 1,
           "bordercolor": "rgb(17,17,17)",
           "tickwidth": 0
          },
          "mapbox": {
           "style": "dark"
          }
         }
        },
        "xaxis": {
         "title": {
          "text": "Name"
         },
         "tickangle": -45
        },
        "font": {
         "color": "black"
        },
        "title": {
         "text": "Comparative of results by Name"
        },
        "yaxis": {
         "title": {
          "text": "Burnt Vertices / Burnt Nodes"
         }
        },
        "plot_bgcolor": "white",
        "paper_bgcolor": "white"
       },
       "config": {
        "plotlyServerURL": "https://plot.ly"
       }
      },
      "text/html": "<div>                            <div id=\"4c98184b-9e56-454e-870d-bee5d71d2b01\" class=\"plotly-graph-div\" style=\"height:525px; width:100%;\"></div>            <script type=\"text/javascript\">                require([\"plotly\"], function(Plotly) {                    window.PLOTLYENV=window.PLOTLYENV || {};                                    if (document.getElementById(\"4c98184b-9e56-454e-870d-bee5d71d2b01\")) {                    Plotly.newPlot(                        \"4c98184b-9e56-454e-870d-bee5d71d2b01\",                        [{\"marker\":{\"color\":[\"#22A699\",\"#F29727\",\"#22A699\",\"#F29727\",\"#22A699\",\"#F29727\",\"#22A699\",\"#F29727\",\"#22A699\",\"#F29727\",\"#22A699\",\"#F29727\",\"#22A699\",\"#F29727\",\"#22A699\",\"#F29727\"]},\"x\":[\"fire-master-a-0\",\"fire-master-b-0\",\"fire-master-a-1\",\"fire-master-b-1\",\"fire-master-a-2\",\"fire-master-b-2\",\"fire-master-a-3\",\"fire-master-b-3\",\"fire-master-a-4\",\"fire-master-b-4\",\"fire-master-a-5\",\"fire-master-b-5\",\"fire-master-a-6\",\"fire-master-b-6\",\"fire-master-a-7\",\"fire-master-b-7\"],\"y\":[1.0,1.0,2.0,3.0,5.0,5.0,16.0,16.0,3.0,3.0,4.0,4.0,6.0,6.0,7.0,7.0],\"type\":\"bar\"}],                        {\"template\":{\"data\":{\"histogram2dcontour\":[{\"type\":\"histogram2dcontour\",\"colorbar\":{\"outlinewidth\":0,\"ticks\":\"\"},\"colorscale\":[[0.0,\"#0d0887\"],[0.1111111111111111,\"#46039f\"],[0.2222222222222222,\"#7201a8\"],[0.3333333333333333,\"#9c179e\"],[0.4444444444444444,\"#bd3786\"],[0.5555555555555556,\"#d8576b\"],[0.6666666666666666,\"#ed7953\"],[0.7777777777777778,\"#fb9f3a\"],[0.8888888888888888,\"#fdca26\"],[1.0,\"#f0f921\"]]}],\"choropleth\":[{\"type\":\"choropleth\",\"colorbar\":{\"outlinewidth\":0,\"ticks\":\"\"}}],\"histogram2d\":[{\"type\":\"histogram2d\",\"colorbar\":{\"outlinewidth\":0,\"ticks\":\"\"},\"colorscale\":[[0.0,\"#0d0887\"],[0.1111111111111111,\"#46039f\"],[0.2222222222222222,\"#7201a8\"],[0.3333333333333333,\"#9c179e\"],[0.4444444444444444,\"#bd3786\"],[0.5555555555555556,\"#d8576b\"],[0.6666666666666666,\"#ed7953\"],[0.7777777777777778,\"#fb9f3a\"],[0.8888888888888888,\"#fdca26\"],[1.0,\"#f0f921\"]]}],\"heatmap\":[{\"type\":\"heatmap\",\"colorbar\":{\"outlinewidth\":0,\"ticks\":\"\"},\"colorscale\":[[0.0,\"#0d0887\"],[0.1111111111111111,\"#46039f\"],[0.2222222222222222,\"#7201a8\"],[0.3333333333333333,\"#9c179e\"],[0.4444444444444444,\"#bd3786\"],[0.5555555555555556,\"#d8576b\"],[0.6666666666666666,\"#ed7953\"],[0.7777777777777778,\"#fb9f3a\"],[0.8888888888888888,\"#fdca26\"],[1.0,\"#f0f921\"]]}],\"heatmapgl\":[{\"type\":\"heatmapgl\",\"colorbar\":{\"outlinewidth\":0,\"ticks\":\"\"},\"colorscale\":[[0.0,\"#0d0887\"],[0.1111111111111111,\"#46039f\"],[0.2222222222222222,\"#7201a8\"],[0.3333333333333333,\"#9c179e\"],[0.4444444444444444,\"#bd3786\"],[0.5555555555555556,\"#d8576b\"],[0.6666666666666666,\"#ed7953\"],[0.7777777777777778,\"#fb9f3a\"],[0.8888888888888888,\"#fdca26\"],[1.0,\"#f0f921\"]]}],\"contourcarpet\":[{\"type\":\"contourcarpet\",\"colorbar\":{\"outlinewidth\":0,\"ticks\":\"\"}}],\"contour\":[{\"type\":\"contour\",\"colorbar\":{\"outlinewidth\":0,\"ticks\":\"\"},\"colorscale\":[[0.0,\"#0d0887\"],[0.1111111111111111,\"#46039f\"],[0.2222222222222222,\"#7201a8\"],[0.3333333333333333,\"#9c179e\"],[0.4444444444444444,\"#bd3786\"],[0.5555555555555556,\"#d8576b\"],[0.6666666666666666,\"#ed7953\"],[0.7777777777777778,\"#fb9f3a\"],[0.8888888888888888,\"#fdca26\"],[1.0,\"#f0f921\"]]}],\"surface\":[{\"type\":\"surface\",\"colorbar\":{\"outlinewidth\":0,\"ticks\":\"\"},\"colorscale\":[[0.0,\"#0d0887\"],[0.1111111111111111,\"#46039f\"],[0.2222222222222222,\"#7201a8\"],[0.3333333333333333,\"#9c179e\"],[0.4444444444444444,\"#bd3786\"],[0.5555555555555556,\"#d8576b\"],[0.6666666666666666,\"#ed7953\"],[0.7777777777777778,\"#fb9f3a\"],[0.8888888888888888,\"#fdca26\"],[1.0,\"#f0f921\"]]}],\"mesh3d\":[{\"type\":\"mesh3d\",\"colorbar\":{\"outlinewidth\":0,\"ticks\":\"\"}}],\"scatter\":[{\"marker\":{\"line\":{\"color\":\"#283442\"}},\"type\":\"scatter\"}],\"parcoords\":[{\"type\":\"parcoords\",\"line\":{\"colorbar\":{\"outlinewidth\":0,\"ticks\":\"\"}}}],\"scatterpolargl\":[{\"type\":\"scatterpolargl\",\"marker\":{\"colorbar\":{\"outlinewidth\":0,\"ticks\":\"\"}}}],\"bar\":[{\"error_x\":{\"color\":\"#f2f5fa\"},\"error_y\":{\"color\":\"#f2f5fa\"},\"marker\":{\"line\":{\"color\":\"rgb(17,17,17)\",\"width\":0.5},\"pattern\":{\"fillmode\":\"overlay\",\"size\":10,\"solidity\":0.2}},\"type\":\"bar\"}],\"scattergeo\":[{\"type\":\"scattergeo\",\"marker\":{\"colorbar\":{\"outlinewidth\":0,\"ticks\":\"\"}}}],\"scatterpolar\":[{\"type\":\"scatterpolar\",\"marker\":{\"colorbar\":{\"outlinewidth\":0,\"ticks\":\"\"}}}],\"histogram\":[{\"marker\":{\"pattern\":{\"fillmode\":\"overlay\",\"size\":10,\"solidity\":0.2}},\"type\":\"histogram\"}],\"scattergl\":[{\"marker\":{\"line\":{\"color\":\"#283442\"}},\"type\":\"scattergl\"}],\"scatter3d\":[{\"type\":\"scatter3d\",\"line\":{\"colorbar\":{\"outlinewidth\":0,\"ticks\":\"\"}},\"marker\":{\"colorbar\":{\"outlinewidth\":0,\"ticks\":\"\"}}}],\"scattermapbox\":[{\"type\":\"scattermapbox\",\"marker\":{\"colorbar\":{\"outlinewidth\":0,\"ticks\":\"\"}}}],\"scatterternary\":[{\"type\":\"scatterternary\",\"marker\":{\"colorbar\":{\"outlinewidth\":0,\"ticks\":\"\"}}}],\"scattercarpet\":[{\"type\":\"scattercarpet\",\"marker\":{\"colorbar\":{\"outlinewidth\":0,\"ticks\":\"\"}}}],\"carpet\":[{\"aaxis\":{\"endlinecolor\":\"#A2B1C6\",\"gridcolor\":\"#506784\",\"linecolor\":\"#506784\",\"minorgridcolor\":\"#506784\",\"startlinecolor\":\"#A2B1C6\"},\"baxis\":{\"endlinecolor\":\"#A2B1C6\",\"gridcolor\":\"#506784\",\"linecolor\":\"#506784\",\"minorgridcolor\":\"#506784\",\"startlinecolor\":\"#A2B1C6\"},\"type\":\"carpet\"}],\"table\":[{\"cells\":{\"fill\":{\"color\":\"#506784\"},\"line\":{\"color\":\"rgb(17,17,17)\"}},\"header\":{\"fill\":{\"color\":\"#2a3f5f\"},\"line\":{\"color\":\"rgb(17,17,17)\"}},\"type\":\"table\"}],\"barpolar\":[{\"marker\":{\"line\":{\"color\":\"rgb(17,17,17)\",\"width\":0.5},\"pattern\":{\"fillmode\":\"overlay\",\"size\":10,\"solidity\":0.2}},\"type\":\"barpolar\"}],\"pie\":[{\"automargin\":true,\"type\":\"pie\"}]},\"layout\":{\"autotypenumbers\":\"strict\",\"colorway\":[\"#636efa\",\"#EF553B\",\"#00cc96\",\"#ab63fa\",\"#FFA15A\",\"#19d3f3\",\"#FF6692\",\"#B6E880\",\"#FF97FF\",\"#FECB52\"],\"font\":{\"color\":\"#f2f5fa\"},\"hovermode\":\"closest\",\"hoverlabel\":{\"align\":\"left\"},\"paper_bgcolor\":\"rgb(17,17,17)\",\"plot_bgcolor\":\"rgb(17,17,17)\",\"polar\":{\"bgcolor\":\"rgb(17,17,17)\",\"angularaxis\":{\"gridcolor\":\"#506784\",\"linecolor\":\"#506784\",\"ticks\":\"\"},\"radialaxis\":{\"gridcolor\":\"#506784\",\"linecolor\":\"#506784\",\"ticks\":\"\"}},\"ternary\":{\"bgcolor\":\"rgb(17,17,17)\",\"aaxis\":{\"gridcolor\":\"#506784\",\"linecolor\":\"#506784\",\"ticks\":\"\"},\"baxis\":{\"gridcolor\":\"#506784\",\"linecolor\":\"#506784\",\"ticks\":\"\"},\"caxis\":{\"gridcolor\":\"#506784\",\"linecolor\":\"#506784\",\"ticks\":\"\"}},\"coloraxis\":{\"colorbar\":{\"outlinewidth\":0,\"ticks\":\"\"}},\"colorscale\":{\"sequential\":[[0.0,\"#0d0887\"],[0.1111111111111111,\"#46039f\"],[0.2222222222222222,\"#7201a8\"],[0.3333333333333333,\"#9c179e\"],[0.4444444444444444,\"#bd3786\"],[0.5555555555555556,\"#d8576b\"],[0.6666666666666666,\"#ed7953\"],[0.7777777777777778,\"#fb9f3a\"],[0.8888888888888888,\"#fdca26\"],[1.0,\"#f0f921\"]],\"sequentialminus\":[[0.0,\"#0d0887\"],[0.1111111111111111,\"#46039f\"],[0.2222222222222222,\"#7201a8\"],[0.3333333333333333,\"#9c179e\"],[0.4444444444444444,\"#bd3786\"],[0.5555555555555556,\"#d8576b\"],[0.6666666666666666,\"#ed7953\"],[0.7777777777777778,\"#fb9f3a\"],[0.8888888888888888,\"#fdca26\"],[1.0,\"#f0f921\"]],\"diverging\":[[0,\"#8e0152\"],[0.1,\"#c51b7d\"],[0.2,\"#de77ae\"],[0.3,\"#f1b6da\"],[0.4,\"#fde0ef\"],[0.5,\"#f7f7f7\"],[0.6,\"#e6f5d0\"],[0.7,\"#b8e186\"],[0.8,\"#7fbc41\"],[0.9,\"#4d9221\"],[1,\"#276419\"]]},\"xaxis\":{\"gridcolor\":\"#283442\",\"linecolor\":\"#506784\",\"ticks\":\"\",\"title\":{\"standoff\":15},\"zerolinecolor\":\"#283442\",\"automargin\":true,\"zerolinewidth\":2},\"yaxis\":{\"gridcolor\":\"#283442\",\"linecolor\":\"#506784\",\"ticks\":\"\",\"title\":{\"standoff\":15},\"zerolinecolor\":\"#283442\",\"automargin\":true,\"zerolinewidth\":2},\"scene\":{\"xaxis\":{\"backgroundcolor\":\"rgb(17,17,17)\",\"gridcolor\":\"#506784\",\"linecolor\":\"#506784\",\"showbackground\":true,\"ticks\":\"\",\"zerolinecolor\":\"#C8D4E3\",\"gridwidth\":2},\"yaxis\":{\"backgroundcolor\":\"rgb(17,17,17)\",\"gridcolor\":\"#506784\",\"linecolor\":\"#506784\",\"showbackground\":true,\"ticks\":\"\",\"zerolinecolor\":\"#C8D4E3\",\"gridwidth\":2},\"zaxis\":{\"backgroundcolor\":\"rgb(17,17,17)\",\"gridcolor\":\"#506784\",\"linecolor\":\"#506784\",\"showbackground\":true,\"ticks\":\"\",\"zerolinecolor\":\"#C8D4E3\",\"gridwidth\":2}},\"shapedefaults\":{\"line\":{\"color\":\"#f2f5fa\"}},\"annotationdefaults\":{\"arrowcolor\":\"#f2f5fa\",\"arrowhead\":0,\"arrowwidth\":1},\"geo\":{\"bgcolor\":\"rgb(17,17,17)\",\"landcolor\":\"rgb(17,17,17)\",\"subunitcolor\":\"#506784\",\"showland\":true,\"showlakes\":true,\"lakecolor\":\"rgb(17,17,17)\"},\"title\":{\"x\":0.05},\"updatemenudefaults\":{\"bgcolor\":\"#506784\",\"borderwidth\":0},\"sliderdefaults\":{\"bgcolor\":\"#C8D4E3\",\"borderwidth\":1,\"bordercolor\":\"rgb(17,17,17)\",\"tickwidth\":0},\"mapbox\":{\"style\":\"dark\"}}},\"xaxis\":{\"title\":{\"text\":\"Name\"},\"tickangle\":-45},\"font\":{\"color\":\"black\"},\"title\":{\"text\":\"Comparative of results by Name\"},\"yaxis\":{\"title\":{\"text\":\"Burnt Vertices / Burnt Nodes\"}},\"plot_bgcolor\":\"white\",\"paper_bgcolor\":\"white\"},                        {\"responsive\": true}                    ).then(function(){\n                            \nvar gd = document.getElementById('4c98184b-9e56-454e-870d-bee5d71d2b01');\nvar x = new MutationObserver(function (mutations, observer) {{\n        var display = window.getComputedStyle(gd).display;\n        if (!display || display === 'none') {{\n            console.log([gd, 'removed!']);\n            Plotly.purge(gd);\n            observer.disconnect();\n        }}\n}});\n\n// Listen for the removal of the full notebook cells\nvar notebookContainer = gd.closest('#notebook-container');\nif (notebookContainer) {{\n    x.observe(notebookContainer, {childList: true});\n}}\n\n// Listen for the clearing of the current output cell\nvar outputEl = gd.closest('.output');\nif (outputEl) {{\n    x.observe(outputEl, {childList: true});\n}}\n\n                        })                };                });            </script>        </div>"
     },
     "metadata": {},
     "output_type": "display_data"
    }
   ],
   "source": [
    "import plotly.graph_objects as go\n",
    "import numpy as np\n",
    "\n",
    "# Sort the DataFrame by total_runtime in ascending order\n",
    "combined_data.sort_values('total_runtime', inplace=True)\n",
    "\n",
    "# Create a list of colors for each group\n",
    "colors = []\n",
    "for name in combined_data['name']:\n",
    "    if '-a-' in name:\n",
    "        colors.append('#22A699')\n",
    "    else:\n",
    "        colors.append('#F29727')\n",
    "\n",
    "# Create the bar plot\n",
    "fig = go.Figure(data=go.Bar(x=combined_data['name'], y=combined_data['total_runtime'], marker_color=colors))\n",
    "\n",
    "# Customize the layout\n",
    "fig.update_layout(\n",
    "    title='Total Runtime by Name',\n",
    "    xaxis_title='Name',\n",
    "    yaxis_title='Total Runtime',\n",
    "    xaxis_tickangle=-45,\n",
    "    yaxis_type='log',  # Set y-axis to log scale\n",
    "    yaxis_tickformat=',.0f',  # Display numbers with commas as thousand separators\n",
    "    plot_bgcolor='white',\n",
    "    paper_bgcolor='white',\n",
    "    font=dict(color='black')\n",
    ")\n",
    "\n",
    "# Add a line at y=1000\n",
    "fig.add_shape(\n",
    "    type=\"line\",\n",
    "    x0=combined_data['name'].iloc[0],\n",
    "    y0=1000,\n",
    "    x1=combined_data['name'].iloc[-1],\n",
    "    y1=1000,\n",
    "    line=dict(color=\"#F24C3D\", width=4, dash=\"dash\")\n",
    ")\n",
    "# Save the figure as an image file\n",
    "fig.write_image(\"MFP-of-Grid-instances-runtime.png\")\n",
    "\n",
    "# Show the plot\n",
    "fig.show()"
   ],
   "metadata": {
    "collapsed": false
   }
  },
  {
   "cell_type": "code",
   "execution_count": 31,
   "outputs": [
    {
     "name": "stdout",
     "output_type": "stream",
     "text": [
      "fire-master-a-0\n",
      "fire-master-b-0\n",
      "fire-master-a-1\n",
      "fire-master-b-1\n",
      "fire-master-a-2\n",
      "fire-master-b-2\n",
      "fire-master-a-3\n",
      "fire-master-b-3\n",
      "fire-master-a-4\n",
      "fire-master-b-4\n",
      "fire-master-a-5\n",
      "fire-master-b-5\n",
      "fire-master-a-6\n",
      "fire-master-b-6\n",
      "fire-master-a-7\n",
      "fire-master-b-7\n"
     ]
    }
   ],
   "source": [],
   "metadata": {
    "collapsed": false
   }
  }
 ],
 "metadata": {
  "kernelspec": {
   "display_name": "Python 3",
   "language": "python",
   "name": "python3"
  },
  "language_info": {
   "codemirror_mode": {
    "name": "ipython",
    "version": 2
   },
   "file_extension": ".py",
   "mimetype": "text/x-python",
   "name": "python",
   "nbconvert_exporter": "python",
   "pygments_lexer": "ipython2",
   "version": "2.7.6"
  }
 },
 "nbformat": 4,
 "nbformat_minor": 0
}
